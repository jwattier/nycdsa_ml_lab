{
 "cells": [
  {
   "cell_type": "code",
   "execution_count": 1,
   "metadata": {},
   "outputs": [
    {
     "name": "stdout",
     "output_type": "stream",
     "text": "Populating the interactive namespace from numpy and matplotlib\n"
    }
   ],
   "source": [
    "import pandas as pd\n",
    "import seaborn as sns\n",
    "%pylab inline"
   ]
  },
  {
   "cell_type": "code",
   "execution_count": 2,
   "metadata": {},
   "outputs": [],
   "source": [
    "# Problem 1\n",
    "df = pd.read_csv(\"./data/Orders.csv\")"
   ]
  },
  {
   "cell_type": "code",
   "execution_count": 3,
   "metadata": {},
   "outputs": [
    {
     "data": {
      "text/plain": "(51290, 24)"
     },
     "execution_count": 3,
     "metadata": {},
     "output_type": "execute_result"
    }
   ],
   "source": [
    "df.shape"
   ]
  },
  {
   "cell_type": "code",
   "execution_count": 4,
   "metadata": {},
   "outputs": [
    {
     "data": {
      "text/html": "<div>\n<style scoped>\n    .dataframe tbody tr th:only-of-type {\n        vertical-align: middle;\n    }\n\n    .dataframe tbody tr th {\n        vertical-align: top;\n    }\n\n    .dataframe thead th {\n        text-align: right;\n    }\n</style>\n<table border=\"1\" class=\"dataframe\">\n  <thead>\n    <tr style=\"text-align: right;\">\n      <th></th>\n      <th>Row.ID</th>\n      <th>Order.ID</th>\n      <th>Order.Date</th>\n      <th>Ship.Date</th>\n      <th>Ship.Mode</th>\n      <th>Customer.ID</th>\n      <th>Customer.Name</th>\n      <th>Segment</th>\n      <th>Postal.Code</th>\n      <th>City</th>\n      <th>...</th>\n      <th>Product.ID</th>\n      <th>Category</th>\n      <th>Sub.Category</th>\n      <th>Product.Name</th>\n      <th>Sales</th>\n      <th>Quantity</th>\n      <th>Discount</th>\n      <th>Profit</th>\n      <th>Shipping.Cost</th>\n      <th>Order.Priority</th>\n    </tr>\n  </thead>\n  <tbody>\n    <tr>\n      <th>8898</th>\n      <td>5323</td>\n      <td>US-2014-RD1990082-41787</td>\n      <td>5/28/14</td>\n      <td>5/28/14</td>\n      <td>Same Day</td>\n      <td>RD-1990082</td>\n      <td>Ruben Dartt</td>\n      <td>Consumer</td>\n      <td>NaN</td>\n      <td>Lagos de Moreno</td>\n      <td>...</td>\n      <td>FUR-CH-5756</td>\n      <td>Furniture</td>\n      <td>Chairs</td>\n      <td>SAFCO Chairmat, Adjustable</td>\n      <td>$199.39</td>\n      <td>6</td>\n      <td>0.2</td>\n      <td>-$37.49</td>\n      <td>37.711</td>\n      <td>Medium</td>\n    </tr>\n    <tr>\n      <th>50427</th>\n      <td>2715</td>\n      <td>US-2012-PO1919518-41185</td>\n      <td>10/3/12</td>\n      <td>10/8/12</td>\n      <td>Standard Class</td>\n      <td>PO-1919518</td>\n      <td>Phillina Ober</td>\n      <td>Home Office</td>\n      <td>NaN</td>\n      <td>Blumenau</td>\n      <td>...</td>\n      <td>OFF-LA-6043</td>\n      <td>Office Supplies</td>\n      <td>Labels</td>\n      <td>Smead Legal Exhibit Labels, Adjustable</td>\n      <td>$2.40</td>\n      <td>1</td>\n      <td>0.6</td>\n      <td>-$2.04</td>\n      <td>1.152</td>\n      <td>Medium</td>\n    </tr>\n    <tr>\n      <th>9194</th>\n      <td>39354</td>\n      <td>CA-2013-CB12025140-41514</td>\n      <td>8/28/13</td>\n      <td>9/4/13</td>\n      <td>Standard Class</td>\n      <td>CB-120251404</td>\n      <td>Cassandra Brandow</td>\n      <td>Consumer</td>\n      <td>90049.0</td>\n      <td>Los Angeles</td>\n      <td>...</td>\n      <td>OFF-BI-4378</td>\n      <td>Office Supplies</td>\n      <td>Binders</td>\n      <td>GBC Wire Binding Combs</td>\n      <td>$41.36</td>\n      <td>5</td>\n      <td>0.2</td>\n      <td>$13.96</td>\n      <td>3.440</td>\n      <td>Medium</td>\n    </tr>\n    <tr>\n      <th>37109</th>\n      <td>7210</td>\n      <td>MX-2013-JM15535143-41464</td>\n      <td>7/9/13</td>\n      <td>7/13/13</td>\n      <td>Second Class</td>\n      <td>JM-15535143</td>\n      <td>Jessica Myrick</td>\n      <td>Consumer</td>\n      <td>NaN</td>\n      <td>Guarenas</td>\n      <td>...</td>\n      <td>FUR-CH-5367</td>\n      <td>Furniture</td>\n      <td>Chairs</td>\n      <td>Novimex Bag Chairs, Black</td>\n      <td>$34.82</td>\n      <td>2</td>\n      <td>0.4</td>\n      <td>$2.30</td>\n      <td>2.978</td>\n      <td>Medium</td>\n    </tr>\n    <tr>\n      <th>505</th>\n      <td>21884</td>\n      <td>IN-2013-KN163907-41611</td>\n      <td>12/3/13</td>\n      <td>12/10/13</td>\n      <td>Standard Class</td>\n      <td>KN-163907</td>\n      <td>Katherine Nockton</td>\n      <td>Corporate</td>\n      <td>NaN</td>\n      <td>Kwinana</td>\n      <td>...</td>\n      <td>FUR-CH-5378</td>\n      <td>Furniture</td>\n      <td>Chairs</td>\n      <td>Novimex Executive Leather Armchair, Adjustable</td>\n      <td>$4,099.68</td>\n      <td>10</td>\n      <td>0.1</td>\n      <td>$956.58</td>\n      <td>288.980</td>\n      <td>Medium</td>\n    </tr>\n  </tbody>\n</table>\n<p>5 rows × 24 columns</p>\n</div>",
      "text/plain": "       Row.ID                  Order.ID Order.Date Ship.Date       Ship.Mode  \\\n8898     5323   US-2014-RD1990082-41787    5/28/14   5/28/14        Same Day   \n50427    2715   US-2012-PO1919518-41185    10/3/12   10/8/12  Standard Class   \n9194    39354  CA-2013-CB12025140-41514    8/28/13    9/4/13  Standard Class   \n37109    7210  MX-2013-JM15535143-41464     7/9/13   7/13/13    Second Class   \n505     21884    IN-2013-KN163907-41611    12/3/13  12/10/13  Standard Class   \n\n        Customer.ID      Customer.Name      Segment  Postal.Code  \\\n8898     RD-1990082        Ruben Dartt     Consumer          NaN   \n50427    PO-1919518      Phillina Ober  Home Office          NaN   \n9194   CB-120251404  Cassandra Brandow     Consumer      90049.0   \n37109   JM-15535143     Jessica Myrick     Consumer          NaN   \n505       KN-163907  Katherine Nockton    Corporate          NaN   \n\n                  City  ...   Product.ID         Category Sub.Category  \\\n8898   Lagos de Moreno  ...  FUR-CH-5756        Furniture       Chairs   \n50427         Blumenau  ...  OFF-LA-6043  Office Supplies       Labels   \n9194       Los Angeles  ...  OFF-BI-4378  Office Supplies      Binders   \n37109         Guarenas  ...  FUR-CH-5367        Furniture       Chairs   \n505            Kwinana  ...  FUR-CH-5378        Furniture       Chairs   \n\n                                         Product.Name      Sales Quantity  \\\n8898                       SAFCO Chairmat, Adjustable    $199.39        6   \n50427          Smead Legal Exhibit Labels, Adjustable      $2.40        1   \n9194                           GBC Wire Binding Combs     $41.36        5   \n37109                       Novimex Bag Chairs, Black     $34.82        2   \n505    Novimex Executive Leather Armchair, Adjustable  $4,099.68       10   \n\n      Discount   Profit Shipping.Cost  Order.Priority  \n8898       0.2  -$37.49        37.711          Medium  \n50427      0.6   -$2.04         1.152          Medium  \n9194       0.2   $13.96         3.440          Medium  \n37109      0.4    $2.30         2.978          Medium  \n505        0.1  $956.58       288.980          Medium  \n\n[5 rows x 24 columns]"
     },
     "execution_count": 4,
     "metadata": {},
     "output_type": "execute_result"
    }
   ],
   "source": [
    "df.sample(5)"
   ]
  },
  {
   "cell_type": "code",
   "execution_count": 5,
   "metadata": {},
   "outputs": [
    {
     "data": {
      "text/html": "<div>\n<style scoped>\n    .dataframe tbody tr th:only-of-type {\n        vertical-align: middle;\n    }\n\n    .dataframe tbody tr th {\n        vertical-align: top;\n    }\n\n    .dataframe thead th {\n        text-align: right;\n    }\n</style>\n<table border=\"1\" class=\"dataframe\">\n  <thead>\n    <tr style=\"text-align: right;\">\n      <th></th>\n      <th>Profit</th>\n      <th>Sales</th>\n    </tr>\n  </thead>\n  <tbody>\n    <tr>\n      <th>count</th>\n      <td>51290</td>\n      <td>51290</td>\n    </tr>\n    <tr>\n      <th>unique</th>\n      <td>16579</td>\n      <td>20049</td>\n    </tr>\n    <tr>\n      <th>top</th>\n      <td>$0.00</td>\n      <td>$12.96</td>\n    </tr>\n    <tr>\n      <th>freq</th>\n      <td>668</td>\n      <td>67</td>\n    </tr>\n  </tbody>\n</table>\n</div>",
      "text/plain": "       Profit   Sales\ncount   51290   51290\nunique  16579   20049\ntop     $0.00  $12.96\nfreq      668      67"
     },
     "execution_count": 5,
     "metadata": {},
     "output_type": "execute_result"
    }
   ],
   "source": [
    "df[[\"Profit\", \"Sales\"]].describe()\n",
    "\n"
   ]
  },
  {
   "cell_type": "code",
   "execution_count": 6,
   "metadata": {},
   "outputs": [
    {
     "data": {
      "text/html": "<div>\n<style scoped>\n    .dataframe tbody tr th:only-of-type {\n        vertical-align: middle;\n    }\n\n    .dataframe tbody tr th {\n        vertical-align: top;\n    }\n\n    .dataframe thead th {\n        text-align: right;\n    }\n</style>\n<table border=\"1\" class=\"dataframe\">\n  <thead>\n    <tr style=\"text-align: right;\">\n      <th></th>\n      <th>Profit</th>\n      <th>Sales</th>\n    </tr>\n  </thead>\n  <tbody>\n    <tr>\n      <th>7587</th>\n      <td>$63.45</td>\n      <td>$228.42</td>\n    </tr>\n    <tr>\n      <th>37388</th>\n      <td>$6.55</td>\n      <td>$21.12</td>\n    </tr>\n    <tr>\n      <th>39019</th>\n      <td>$3.44</td>\n      <td>$14.48</td>\n    </tr>\n    <tr>\n      <th>7917</th>\n      <td>$91.89</td>\n      <td>$256.17</td>\n    </tr>\n    <tr>\n      <th>14049</th>\n      <td>$39.09</td>\n      <td>$440.64</td>\n    </tr>\n  </tbody>\n</table>\n</div>",
      "text/plain": "       Profit    Sales\n7587   $63.45  $228.42\n37388   $6.55   $21.12\n39019   $3.44   $14.48\n7917   $91.89  $256.17\n14049  $39.09  $440.64"
     },
     "execution_count": 6,
     "metadata": {},
     "output_type": "execute_result"
    }
   ],
   "source": [
    "df[[\"Profit\", \"Sales\"]].sample(5)"
   ]
  },
  {
   "cell_type": "code",
   "execution_count": 7,
   "metadata": {},
   "outputs": [
    {
     "data": {
      "text/html": "<div>\n<style scoped>\n    .dataframe tbody tr th:only-of-type {\n        vertical-align: middle;\n    }\n\n    .dataframe tbody tr th {\n        vertical-align: top;\n    }\n\n    .dataframe thead th {\n        text-align: right;\n    }\n</style>\n<table border=\"1\" class=\"dataframe\">\n  <thead>\n    <tr style=\"text-align: right;\">\n      <th></th>\n      <th>Profit</th>\n      <th>Sales</th>\n    </tr>\n  </thead>\n  <tbody>\n    <tr>\n      <th>0</th>\n      <td>62.15</td>\n      <td>221.98</td>\n    </tr>\n    <tr>\n      <th>1</th>\n      <td>-288.77</td>\n      <td>3709.40</td>\n    </tr>\n    <tr>\n      <th>2</th>\n      <td>919.97</td>\n      <td>5175.17</td>\n    </tr>\n    <tr>\n      <th>3</th>\n      <td>-96.54</td>\n      <td>2892.51</td>\n    </tr>\n    <tr>\n      <th>4</th>\n      <td>311.52</td>\n      <td>2832.96</td>\n    </tr>\n    <tr>\n      <th>...</th>\n      <td>...</td>\n      <td>...</td>\n    </tr>\n    <tr>\n      <th>51285</th>\n      <td>4.50</td>\n      <td>65.10</td>\n    </tr>\n    <tr>\n      <th>51286</th>\n      <td>3.34</td>\n      <td>16.72</td>\n    </tr>\n    <tr>\n      <th>51287</th>\n      <td>2.48</td>\n      <td>8.56</td>\n    </tr>\n    <tr>\n      <th>51288</th>\n      <td>2.40</td>\n      <td>13.44</td>\n    </tr>\n    <tr>\n      <th>51289</th>\n      <td>1.80</td>\n      <td>61.38</td>\n    </tr>\n  </tbody>\n</table>\n<p>51290 rows × 2 columns</p>\n</div>",
      "text/plain": "       Profit    Sales\n0       62.15   221.98\n1     -288.77  3709.40\n2      919.97  5175.17\n3      -96.54  2892.51\n4      311.52  2832.96\n...       ...      ...\n51285    4.50    65.10\n51286    3.34    16.72\n51287    2.48     8.56\n51288    2.40    13.44\n51289    1.80    61.38\n\n[51290 rows x 2 columns]"
     },
     "execution_count": 7,
     "metadata": {},
     "output_type": "execute_result"
    }
   ],
   "source": [
    "df[[\"Profit\", \"Sales\"]].applymap(lambda x: x.replace('$', \"\")).applymap(lambda x: x.replace(',', \"\")).astype(\"float64\")"
   ]
  },
  {
   "cell_type": "code",
   "execution_count": 8,
   "metadata": {},
   "outputs": [],
   "source": [
    "df[[\"Profit\", \"Sales\"]] = df[[\"Profit\", \"Sales\"]].applymap(lambda x: x.replace('$', \"\")).applymap(lambda x: x.replace(',', \"\")).astype(\"float64\")\n",
    "\n"
   ]
  },
  {
   "cell_type": "code",
   "execution_count": 9,
   "metadata": {},
   "outputs": [
    {
     "data": {
      "text/html": "<div>\n<style scoped>\n    .dataframe tbody tr th:only-of-type {\n        vertical-align: middle;\n    }\n\n    .dataframe tbody tr th {\n        vertical-align: top;\n    }\n\n    .dataframe thead th {\n        text-align: right;\n    }\n</style>\n<table border=\"1\" class=\"dataframe\">\n  <thead>\n    <tr style=\"text-align: right;\">\n      <th></th>\n      <th>Profit</th>\n      <th>Sales</th>\n    </tr>\n  </thead>\n  <tbody>\n    <tr>\n      <th>count</th>\n      <td>51290.000000</td>\n      <td>51290.000000</td>\n    </tr>\n    <tr>\n      <th>mean</th>\n      <td>28.610970</td>\n      <td>246.490685</td>\n    </tr>\n    <tr>\n      <th>std</th>\n      <td>174.341066</td>\n      <td>487.565388</td>\n    </tr>\n    <tr>\n      <th>min</th>\n      <td>-6599.980000</td>\n      <td>0.440000</td>\n    </tr>\n    <tr>\n      <th>25%</th>\n      <td>0.000000</td>\n      <td>30.762500</td>\n    </tr>\n    <tr>\n      <th>50%</th>\n      <td>9.240000</td>\n      <td>85.055000</td>\n    </tr>\n    <tr>\n      <th>75%</th>\n      <td>36.810000</td>\n      <td>251.055000</td>\n    </tr>\n    <tr>\n      <th>max</th>\n      <td>8399.980000</td>\n      <td>22638.480000</td>\n    </tr>\n  </tbody>\n</table>\n</div>",
      "text/plain": "             Profit         Sales\ncount  51290.000000  51290.000000\nmean      28.610970    246.490685\nstd      174.341066    487.565388\nmin    -6599.980000      0.440000\n25%        0.000000     30.762500\n50%        9.240000     85.055000\n75%       36.810000    251.055000\nmax     8399.980000  22638.480000"
     },
     "execution_count": 9,
     "metadata": {},
     "output_type": "execute_result"
    }
   ],
   "source": [
    "df[[\"Profit\", \"Sales\"]].describe()"
   ]
  },
  {
   "cell_type": "code",
   "execution_count": 10,
   "metadata": {},
   "outputs": [
    {
     "data": {
      "text/plain": "Index(['Row.ID', 'Order.ID', 'Order.Date', 'Ship.Date', 'Ship.Mode',\n       'Customer.ID', 'Customer.Name', 'Segment', 'Postal.Code', 'City',\n       'State', 'Country', 'Region', 'Market', 'Product.ID', 'Category',\n       'Sub.Category', 'Product.Name', 'Sales', 'Quantity', 'Discount',\n       'Profit', 'Shipping.Cost', 'Order.Priority'],\n      dtype='object')"
     },
     "execution_count": 10,
     "metadata": {},
     "output_type": "execute_result"
    }
   ],
   "source": [
    "# Start of Problem 2\n",
    "df.columns\n"
   ]
  },
  {
   "cell_type": "code",
   "execution_count": 11,
   "metadata": {},
   "outputs": [
    {
     "data": {
      "text/plain": "Row.ID              int64\nOrder.ID           object\nOrder.Date         object\nShip.Date          object\nShip.Mode          object\nCustomer.ID        object\nCustomer.Name      object\nSegment            object\nPostal.Code       float64\nCity               object\nState              object\nCountry            object\nRegion             object\nMarket             object\nProduct.ID         object\nCategory           object\nSub.Category       object\nProduct.Name       object\nSales             float64\nQuantity            int64\nDiscount          float64\nProfit            float64\nShipping.Cost     float64\nOrder.Priority     object\ndtype: object"
     },
     "execution_count": 11,
     "metadata": {},
     "output_type": "execute_result"
    }
   ],
   "source": [
    "df.dtypes"
   ]
  },
  {
   "cell_type": "code",
   "execution_count": 13,
   "metadata": {},
   "outputs": [
    {
     "data": {
      "text/html": "<div>\n<style scoped>\n    .dataframe tbody tr th:only-of-type {\n        vertical-align: middle;\n    }\n\n    .dataframe tbody tr th {\n        vertical-align: top;\n    }\n\n    .dataframe thead th {\n        text-align: right;\n    }\n</style>\n<table border=\"1\" class=\"dataframe\">\n  <thead>\n    <tr style=\"text-align: right;\">\n      <th></th>\n      <th>Ship.Date</th>\n      <th>Order.Date</th>\n    </tr>\n  </thead>\n  <tbody>\n    <tr>\n      <th>45831</th>\n      <td>3/7/14</td>\n      <td>3/5/14</td>\n    </tr>\n    <tr>\n      <th>1944</th>\n      <td>6/4/15</td>\n      <td>6/3/15</td>\n    </tr>\n    <tr>\n      <th>34436</th>\n      <td>3/5/12</td>\n      <td>3/2/12</td>\n    </tr>\n    <tr>\n      <th>33959</th>\n      <td>6/21/13</td>\n      <td>6/15/13</td>\n    </tr>\n    <tr>\n      <th>14157</th>\n      <td>5/28/13</td>\n      <td>5/23/13</td>\n    </tr>\n  </tbody>\n</table>\n</div>",
      "text/plain": "      Ship.Date Order.Date\n45831    3/7/14     3/5/14\n1944     6/4/15     6/3/15\n34436    3/5/12     3/2/12\n33959   6/21/13    6/15/13\n14157   5/28/13    5/23/13"
     },
     "execution_count": 13,
     "metadata": {},
     "output_type": "execute_result"
    }
   ],
   "source": [
    "df[[\"Ship.Date\", \"Order.Date\"]].sample(5)"
   ]
  },
  {
   "cell_type": "code",
   "execution_count": 12,
   "metadata": {},
   "outputs": [
    {
     "data": {
      "text/plain": "Ship.Date     datetime64[ns]\nOrder.Date    datetime64[ns]\ndtype: object"
     },
     "execution_count": 12,
     "metadata": {},
     "output_type": "execute_result"
    }
   ],
   "source": [
    "df[[\"Ship.Date\", \"Order.Date\"]].sample(5).apply(pd.to_datetime, errors=\"coerce\").dtypes\n"
   ]
  },
  {
   "cell_type": "code",
   "execution_count": 15,
   "metadata": {},
   "outputs": [],
   "source": [
    "df[[\"Ship.Date\", \"Order.Date\"]] = df[[\"Ship.Date\", \"Order.Date\"]].apply(pd.to_datetime, errors=\"coerce\")\n",
    "\n"
   ]
  },
  {
   "cell_type": "code",
   "execution_count": 14,
   "metadata": {},
   "outputs": [
    {
     "data": {
      "text/plain": "Row.ID              int64\nOrder.ID           object\nOrder.Date         object\nShip.Date          object\nShip.Mode          object\nCustomer.ID        object\nCustomer.Name      object\nSegment            object\nPostal.Code       float64\nCity               object\nState              object\nCountry            object\nRegion             object\nMarket             object\nProduct.ID         object\nCategory           object\nSub.Category       object\nProduct.Name       object\nSales             float64\nQuantity            int64\nDiscount          float64\nProfit            float64\nShipping.Cost     float64\nOrder.Priority     object\ndtype: object"
     },
     "execution_count": 14,
     "metadata": {},
     "output_type": "execute_result"
    }
   ],
   "source": [
    "df.dtypes"
   ]
  },
  {
   "cell_type": "code",
   "execution_count": 16,
   "metadata": {},
   "outputs": [
    {
     "data": {
      "text/html": "<div>\n<style scoped>\n    .dataframe tbody tr th:only-of-type {\n        vertical-align: middle;\n    }\n\n    .dataframe tbody tr th {\n        vertical-align: top;\n    }\n\n    .dataframe thead th {\n        text-align: right;\n    }\n</style>\n<table border=\"1\" class=\"dataframe\">\n  <thead>\n    <tr style=\"text-align: right;\">\n      <th></th>\n      <th>Ship.Date</th>\n      <th>Order.Date</th>\n    </tr>\n  </thead>\n  <tbody>\n    <tr>\n      <th>count</th>\n      <td>51290</td>\n      <td>51290</td>\n    </tr>\n    <tr>\n      <th>unique</th>\n      <td>1464</td>\n      <td>1430</td>\n    </tr>\n    <tr>\n      <th>top</th>\n      <td>2015-11-22 00:00:00</td>\n      <td>2015-06-18 00:00:00</td>\n    </tr>\n    <tr>\n      <th>freq</th>\n      <td>130</td>\n      <td>135</td>\n    </tr>\n    <tr>\n      <th>first</th>\n      <td>2012-01-03 00:00:00</td>\n      <td>2012-01-01 00:00:00</td>\n    </tr>\n    <tr>\n      <th>last</th>\n      <td>2016-01-07 00:00:00</td>\n      <td>2015-12-31 00:00:00</td>\n    </tr>\n  </tbody>\n</table>\n</div>",
      "text/plain": "                  Ship.Date           Order.Date\ncount                 51290                51290\nunique                 1464                 1430\ntop     2015-11-22 00:00:00  2015-06-18 00:00:00\nfreq                    130                  135\nfirst   2012-01-03 00:00:00  2012-01-01 00:00:00\nlast    2016-01-07 00:00:00  2015-12-31 00:00:00"
     },
     "execution_count": 16,
     "metadata": {},
     "output_type": "execute_result"
    }
   ],
   "source": [
    "df[[\"Ship.Date\", \"Order.Date\"]].describe()\n",
    "\n"
   ]
  },
  {
   "cell_type": "code",
   "execution_count": 17,
   "metadata": {},
   "outputs": [],
   "source": [
    "df[\"order_month\"] = df[\"Order.Date\"].dt.month\n",
    "df[\"order_year\"] = df[\"Order.Date\"].dt.year"
   ]
  },
  {
   "cell_type": "code",
   "execution_count": 18,
   "metadata": {},
   "outputs": [
    {
     "data": {
      "text/plain": "order_month\n1      8872\n2      7429\n3     10390\n4     10466\n5     13196\n6     18009\n7     11046\n8     17596\n9     20479\n10    16303\n11    22379\n12    22147\nName: Quantity, dtype: int64"
     },
     "execution_count": 18,
     "metadata": {},
     "output_type": "execute_result"
    }
   ],
   "source": [
    "df.groupby([\"order_month\"])[\"Quantity\"].sum()"
   ]
  },
  {
   "cell_type": "code",
   "execution_count": 19,
   "metadata": {},
   "outputs": [
    {
     "data": {
      "text/plain": "order_year  order_month\n2012        1              1463\n            2              1401\n            3              1745\n            4              1934\n            5              2167\n            6              3002\n            7              1836\n            8              3020\n            9              3644\n            10             2981\n            11             3924\n            12             4326\n2013        1              1874\n            2              1444\n            3              2237\n            4              2250\n            5              2921\n            6              3671\n            7              2321\n            8              3818\n            9              4205\n            10             3563\n            11             5193\n            12             4614\n2014        1              2413\n            2              2102\n            3              2686\n            4              2688\n            5              3808\n            6              5327\n            7              3252\n            8              4934\n            9              5793\n            10             3883\n            11             5556\n            12             5694\n2015        1              3122\n            2              2482\n            3              3722\n            4              3594\n            5              4300\n            6              6009\n            7              3637\n            8              5824\n            9              6837\n            10             5876\n            11             7706\n            12             7513\nName: Quantity, dtype: int64"
     },
     "execution_count": 19,
     "metadata": {},
     "output_type": "execute_result"
    }
   ],
   "source": [
    "# appears that there are higher totals in June, September, November and December\n",
    "df.groupby([\"order_year\", \"order_month\"])[\"Quantity\"].sum()"
   ]
  },
  {
   "cell_type": "code",
   "execution_count": 20,
   "metadata": {},
   "outputs": [
    {
     "ename": "KeyError",
     "evalue": "'Column not found: Quantity'",
     "output_type": "error",
     "traceback": [
      "\u001b[1;31m---------------------------------------------------------------------------\u001b[0m",
      "\u001b[1;31mKeyError\u001b[0m                                  Traceback (most recent call last)",
      "\u001b[1;32m<ipython-input-20-b3a2490c2858>\u001b[0m in \u001b[0;36m<module>\u001b[1;34m\u001b[0m\n\u001b[0;32m      1\u001b[0m \u001b[0mtotals_df\u001b[0m \u001b[1;33m=\u001b[0m \u001b[0mdf\u001b[0m\u001b[1;33m.\u001b[0m\u001b[0mgroupby\u001b[0m\u001b[1;33m(\u001b[0m\u001b[1;33m[\u001b[0m\u001b[1;34m\"order_year\"\u001b[0m\u001b[1;33m,\u001b[0m \u001b[1;34m\"order_month\"\u001b[0m\u001b[1;33m,\u001b[0m \u001b[1;34m\"Category\"\u001b[0m\u001b[1;33m]\u001b[0m\u001b[1;33m)\u001b[0m\u001b[1;33m[\u001b[0m\u001b[1;34m\"Quantity\"\u001b[0m\u001b[1;33m]\u001b[0m\u001b[1;33m.\u001b[0m\u001b[0msum\u001b[0m\u001b[1;33m(\u001b[0m\u001b[1;33m)\u001b[0m\u001b[1;33m\u001b[0m\u001b[1;33m\u001b[0m\u001b[0m\n\u001b[1;32m----> 2\u001b[1;33m \u001b[0mtotals_df\u001b[0m\u001b[1;33m.\u001b[0m\u001b[0mgroupby\u001b[0m\u001b[1;33m(\u001b[0m\u001b[1;33m[\u001b[0m\u001b[1;34m\"Category\"\u001b[0m\u001b[1;33m,\u001b[0m \u001b[1;34m\"order_month\"\u001b[0m\u001b[1;33m]\u001b[0m\u001b[1;33m)\u001b[0m\u001b[1;33m[\u001b[0m\u001b[1;34m\"Quantity\"\u001b[0m\u001b[1;33m]\u001b[0m\u001b[1;33m.\u001b[0m\u001b[0mmean\u001b[0m\u001b[1;33m(\u001b[0m\u001b[1;33m)\u001b[0m\u001b[1;33m\u001b[0m\u001b[1;33m\u001b[0m\u001b[0m\n\u001b[0m",
      "\u001b[1;32m~\\Anaconda3\\envs\\ml_work_area\\lib\\site-packages\\pandas\\core\\base.py\u001b[0m in \u001b[0;36m__getitem__\u001b[1;34m(self, key)\u001b[0m\n\u001b[0;32m    237\u001b[0m         \u001b[1;32melse\u001b[0m\u001b[1;33m:\u001b[0m\u001b[1;33m\u001b[0m\u001b[1;33m\u001b[0m\u001b[0m\n\u001b[0;32m    238\u001b[0m             \u001b[1;32mif\u001b[0m \u001b[0mkey\u001b[0m \u001b[1;32mnot\u001b[0m \u001b[1;32min\u001b[0m \u001b[0mself\u001b[0m\u001b[1;33m.\u001b[0m\u001b[0mobj\u001b[0m\u001b[1;33m:\u001b[0m\u001b[1;33m\u001b[0m\u001b[1;33m\u001b[0m\u001b[0m\n\u001b[1;32m--> 239\u001b[1;33m                 \u001b[1;32mraise\u001b[0m \u001b[0mKeyError\u001b[0m\u001b[1;33m(\u001b[0m\u001b[1;34mf\"Column not found: {key}\"\u001b[0m\u001b[1;33m)\u001b[0m\u001b[1;33m\u001b[0m\u001b[1;33m\u001b[0m\u001b[0m\n\u001b[0m\u001b[0;32m    240\u001b[0m             \u001b[1;32mreturn\u001b[0m \u001b[0mself\u001b[0m\u001b[1;33m.\u001b[0m\u001b[0m_gotitem\u001b[0m\u001b[1;33m(\u001b[0m\u001b[0mkey\u001b[0m\u001b[1;33m,\u001b[0m \u001b[0mndim\u001b[0m\u001b[1;33m=\u001b[0m\u001b[1;36m1\u001b[0m\u001b[1;33m)\u001b[0m\u001b[1;33m\u001b[0m\u001b[1;33m\u001b[0m\u001b[0m\n\u001b[0;32m    241\u001b[0m \u001b[1;33m\u001b[0m\u001b[0m\n",
      "\u001b[1;31mKeyError\u001b[0m: 'Column not found: Quantity'"
     ]
    }
   ],
   "source": [
    "totals_df = df.groupby([\"order_year\", \"order_month\", \"Category\"])[\"Quantity\"].sum()\n",
    "totals_df.groupby([\"Category\", \"order_month\"])[\"Quantity\"].mean()"
   ]
  },
  {
   "cell_type": "code",
   "execution_count": 43,
   "metadata": {},
   "outputs": [
    {
     "data": {
      "text/plain": "order_year  order_month  Category       \n2012        1            Furniture           246\n                         Office Supplies     997\n                         Technology          220\n            2            Furniture           278\n                         Office Supplies     800\n                                            ... \n2015        11           Office Supplies    4656\n                         Technology         1597\n            12           Furniture          1527\n                         Office Supplies    4553\n                         Technology         1433\nName: Quantity, Length: 144, dtype: int64"
     },
     "execution_count": 43,
     "metadata": {},
     "output_type": "execute_result"
    }
   ],
   "source": [
    "totals_df"
   ]
  },
  {
   "cell_type": "code",
   "execution_count": 44,
   "metadata": {},
   "outputs": [
    {
     "data": {
      "text/plain": "<matplotlib.axes._subplots.AxesSubplot at 0x1c348dde088>"
     },
     "execution_count": 44,
     "metadata": {},
     "output_type": "execute_result"
    },
    {
     "data": {
      "image/png": "[encoded data removed]",
      "image/svg+xml": "<?xml version=\"1.0\" encoding=\"utf-8\" standalone=\"no\"?>\r\n<!DOCTYPE svg PUBLIC \"-//W3C//DTD SVG 1.1//EN\"\r\n  \"http://www.w3.org/Graphics/SVG/1.1/DTD/svg11.dtd\">\r\n<!-- Created with matplotlib (https://matplotlib.org/) -->\r\n<svg height=\"262.474375pt\" version=\"1.1\" viewBox=\"0 0 382.603125 262.474375\" width=\"382.603125pt\" xmlns=\"http://www.w3.org/2000/svg\" xmlns:xlink=\"http://www.w3.org/1999/xlink\">\r\n <defs>\r\n  <style type=\"text/css\">\r\n*{stroke-linecap:butt;stroke-linejoin:round;}\r\n  </style>\r\n </defs>\r\n <g id=\"figure_1\">\r\n  <g id=\"patch_1\">\r\n   <path d=\"M 0 262.474375 \r\nL 382.603125 262.474375 \r\nL 382.603125 0 \r\nL 0 0 \r\nz\r\n\" style=\"fill:none;\"/>\r\n  </g>\r\n  <g id=\"axes_1\">\r\n   <g id=\"patch_2\">\r\n    <path d=\"M 40.603125 224.64 \r\nL 375.403125 224.64 \r\nL 375.403125 7.2 \r\nL 40.603125 7.2 \r\nz\r\n\" style=\"fill:#ffffff;\"/>\r\n   </g>\r\n   <g id=\"PathCollection_1\"/>\r\n   <g id=\"PatchCollection_1\">\r\n    <path clip-path=\"url(#pe50dcb4330)\" d=\"M 54.509531 214.756364 \r\nL 54.596719 214.756364 \r\nL 54.596719 17.083636 \r\nL 54.509531 17.083636 \r\nz\r\n\" style=\"fill:#ffffff;\"/>\r\n    <path clip-path=\"url(#pe50dcb4330)\" d=\"M 54.465938 214.756364 \r\nL 54.640313 214.756364 \r\nL 54.640313 17.083636 \r\nL 54.465938 17.083636 \r\nz\r\n\" style=\"fill:#fcf2f3;\"/>\r\n    <path clip-path=\"url(#pe50dcb4330)\" d=\"M 54.37875 214.756364 \r\nL 54.7275 214.756364 \r\nL 54.7275 32.289231 \r\nL 54.37875 32.289231 \r\nz\r\n\" style=\"fill:#fae5e8;\"/>\r\n    <path clip-path=\"url(#pe50dcb4330)\" d=\"M 54.204375 214.756364 \r\nL 54.901875 214.756364 \r\nL 54.901875 47.494825 \r\nL 54.204375 47.494825 \r\nz\r\n\" style=\"fill:#f7d7dc;\"/>\r\n    <path clip-path=\"url(#pe50dcb4330)\" d=\"M 53.855625 214.756364 \r\nL 55.250625 214.756364 \r\nL 55.250625 77.906014 \r\nL 53.855625 77.906014 \r\nz\r\n\" style=\"fill:#f4cad1;\"/>\r\n    <path clip-path=\"url(#pe50dcb4330)\" d=\"M 53.158125 214.756364 \r\nL 55.948125 214.756364 \r\nL 55.948125 93.111608 \r\nL 53.158125 93.111608 \r\nz\r\n\" style=\"fill:#f2bdc5;\"/>\r\n    <path clip-path=\"url(#pe50dcb4330)\" d=\"M 51.763125 214.756364 \r\nL 57.343125 214.756364 \r\nL 57.343125 123.522797 \r\nL 51.763125 123.522797 \r\nz\r\n\" style=\"fill:#efb0ba;\"/>\r\n    <path clip-path=\"url(#pe50dcb4330)\" d=\"M 48.973125 214.756364 \r\nL 60.133125 214.756364 \r\nL 60.133125 138.728392 \r\nL 48.973125 138.728392 \r\nz\r\n\" style=\"fill:#eda3ae;\"/>\r\n    <path clip-path=\"url(#pe50dcb4330)\" d=\"M 43.393125 199.550769 \r\nL 65.713125 199.550769 \r\nL 65.713125 169.13958 \r\nL 43.393125 169.13958 \r\nz\r\n\" style=\"fill:#ea96a3;\"/>\r\n   </g>\r\n   <g id=\"PathCollection_2\"/>\r\n   <g id=\"PatchCollection_2\">\r\n    <path clip-path=\"url(#pe50dcb4330)\" d=\"M 82.431328 214.756364 \r\nL 82.474922 214.756364 \r\nL 82.474922 17.083636 \r\nL 82.431328 17.083636 \r\nz\r\n\" style=\"fill:#ffffff;\"/>\r\n    <path clip-path=\"url(#pe50dcb4330)\" d=\"M 82.409531 214.756364 \r\nL 82.496719 214.756364 \r\nL 82.496719 17.083636 \r\nL 82.409531 17.083636 \r\nz\r\n\" style=\"fill:#fcf3ec;\"/>\r\n    <path clip-path=\"url(#pe50dcb4330)\" d=\"M 82.365938 214.756364 \r\nL 82.540312 214.756364 \r\nL 82.540312 17.083636 \r\nL 82.365938 17.083636 \r\nz\r\n\" style=\"fill:#f8e7d9;\"/>\r\n    <path clip-path=\"url(#pe50dcb4330)\" d=\"M 82.27875 214.756364 \r\nL 82.6275 214.756364 \r\nL 82.6275 32.289231 \r\nL 82.27875 32.289231 \r\nz\r\n\" style=\"fill:#f5dac6;\"/>\r\n    <path clip-path=\"url(#pe50dcb4330)\" d=\"M 82.104375 214.756364 \r\nL 82.801875 214.756364 \r\nL 82.801875 47.494825 \r\nL 82.104375 47.494825 \r\nz\r\n\" style=\"fill:#f2ceb3;\"/>\r\n    <path clip-path=\"url(#pe50dcb4330)\" d=\"M 81.755625 214.756364 \r\nL 83.150625 214.756364 \r\nL 83.150625 77.906014 \r\nL 81.755625 77.906014 \r\nz\r\n\" style=\"fill:#eec29f;\"/>\r\n    <path clip-path=\"url(#pe50dcb4330)\" d=\"M 81.058125 214.756364 \r\nL 83.848125 214.756364 \r\nL 83.848125 93.111608 \r\nL 81.058125 93.111608 \r\nz\r\n\" style=\"fill:#ebb68c;\"/>\r\n    <path clip-path=\"url(#pe50dcb4330)\" d=\"M 79.663125 214.756364 \r\nL 85.243125 214.756364 \r\nL 85.243125 123.522797 \r\nL 79.663125 123.522797 \r\nz\r\n\" style=\"fill:#e8a979;\"/>\r\n    <path clip-path=\"url(#pe50dcb4330)\" d=\"M 76.873125 214.756364 \r\nL 88.033125 214.756364 \r\nL 88.033125 138.728392 \r\nL 76.873125 138.728392 \r\nz\r\n\" style=\"fill:#e49d66;\"/>\r\n    <path clip-path=\"url(#pe50dcb4330)\" d=\"M 71.293125 199.550769 \r\nL 93.613125 199.550769 \r\nL 93.613125 169.13958 \r\nL 71.293125 169.13958 \r\nz\r\n\" style=\"fill:#e19153;\"/>\r\n   </g>\r\n   <g id=\"PathCollection_3\"/>\r\n   <g id=\"PatchCollection_3\">\r\n    <path clip-path=\"url(#pe50dcb4330)\" d=\"M 110.309531 214.756364 \r\nL 110.396719 214.756364 \r\nL 110.396719 17.083636 \r\nL 110.309531 17.083636 \r\nz\r\n\" style=\"fill:#ffffff;\"/>\r\n    <path clip-path=\"url(#pe50dcb4330)\" d=\"M 110.265937 214.756364 \r\nL 110.440312 214.756364 \r\nL 110.440312 17.083636 \r\nL 110.265937 17.083636 \r\nz\r\n\" style=\"fill:#f6f3e8;\"/>\r\n    <path clip-path=\"url(#pe50dcb4330)\" d=\"M 110.17875 214.756364 \r\nL 110.5275 214.756364 \r\nL 110.5275 17.083636 \r\nL 110.17875 17.083636 \r\nz\r\n\" style=\"fill:#ede6d1;\"/>\r\n    <path clip-path=\"url(#pe50dcb4330)\" d=\"M 110.004375 214.756364 \r\nL 110.701875 214.756364 \r\nL 110.701875 47.494825 \r\nL 110.004375 47.494825 \r\nz\r\n\" style=\"fill:#e4daba;\"/>\r\n    <path clip-path=\"url(#pe50dcb4330)\" d=\"M 109.655625 214.756364 \r\nL 111.050625 214.756364 \r\nL 111.050625 77.906014 \r\nL 109.655625 77.906014 \r\nz\r\n\" style=\"fill:#dbcda4;\"/>\r\n    <path clip-path=\"url(#pe50dcb4330)\" d=\"M 108.958125 214.756364 \r\nL 111.748125 214.756364 \r\nL 111.748125 93.111608 \r\nL 108.958125 93.111608 \r\nz\r\n\" style=\"fill:#d2c18d;\"/>\r\n    <path clip-path=\"url(#pe50dcb4330)\" d=\"M 107.563125 214.756364 \r\nL 113.143125 214.756364 \r\nL 113.143125 123.522797 \r\nL 107.563125 123.522797 \r\nz\r\n\" style=\"fill:#cab476;\"/>\r\n    <path clip-path=\"url(#pe50dcb4330)\" d=\"M 104.773125 214.756364 \r\nL 115.933125 214.756364 \r\nL 115.933125 138.728392 \r\nL 104.773125 138.728392 \r\nz\r\n\" style=\"fill:#c1a85f;\"/>\r\n    <path clip-path=\"url(#pe50dcb4330)\" d=\"M 99.193125 199.550769 \r\nL 121.513125 199.550769 \r\nL 121.513125 153.933986 \r\nL 99.193125 153.933986 \r\nz\r\n\" style=\"fill:#b89c49;\"/>\r\n   </g>\r\n   <g id=\"PathCollection_4\"/>\r\n   <g id=\"PatchCollection_4\">\r\n    <path clip-path=\"url(#pe50dcb4330)\" d=\"M 138.209531 214.756364 \r\nL 138.296719 214.756364 \r\nL 138.296719 17.083636 \r\nL 138.209531 17.083636 \r\nz\r\n\" style=\"fill:#ffffff;\"/>\r\n    <path clip-path=\"url(#pe50dcb4330)\" d=\"M 138.165937 214.756364 \r\nL 138.340312 214.756364 \r\nL 138.340312 17.083636 \r\nL 138.165937 17.083636 \r\nz\r\n\" style=\"fill:#f2f3e8;\"/>\r\n    <path clip-path=\"url(#pe50dcb4330)\" d=\"M 138.07875 214.756364 \r\nL 138.4275 214.756364 \r\nL 138.4275 32.289231 \r\nL 138.07875 32.289231 \r\nz\r\n\" style=\"fill:#e5e8d1;\"/>\r\n    <path clip-path=\"url(#pe50dcb4330)\" d=\"M 137.904375 214.756364 \r\nL 138.601875 214.756364 \r\nL 138.601875 47.494825 \r\nL 137.904375 47.494825 \r\nz\r\n\" style=\"fill:#d8dcb9;\"/>\r\n    <path clip-path=\"url(#pe50dcb4330)\" d=\"M 137.555625 214.756364 \r\nL 138.950625 214.756364 \r\nL 138.950625 77.906014 \r\nL 137.555625 77.906014 \r\nz\r\n\" style=\"fill:#cbd0a2;\"/>\r\n    <path clip-path=\"url(#pe50dcb4330)\" d=\"M 136.858125 214.756364 \r\nL 139.648125 214.756364 \r\nL 139.648125 93.111608 \r\nL 136.858125 93.111608 \r\nz\r\n\" style=\"fill:#bec58b;\"/>\r\n    <path clip-path=\"url(#pe50dcb4330)\" d=\"M 135.463125 214.756364 \r\nL 141.043125 214.756364 \r\nL 141.043125 123.522797 \r\nL 135.463125 123.522797 \r\nz\r\n\" style=\"fill:#b1b974;\"/>\r\n    <path clip-path=\"url(#pe50dcb4330)\" d=\"M 132.673125 214.756364 \r\nL 143.833125 214.756364 \r\nL 143.833125 138.728392 \r\nL 132.673125 138.728392 \r\nz\r\n\" style=\"fill:#a5ad5c;\"/>\r\n    <path clip-path=\"url(#pe50dcb4330)\" d=\"M 127.093125 199.550769 \r\nL 149.413125 199.550769 \r\nL 149.413125 153.933986 \r\nL 127.093125 153.933986 \r\nz\r\n\" style=\"fill:#98a246;\"/>\r\n   </g>\r\n   <g id=\"PathCollection_5\"/>\r\n   <g id=\"PatchCollection_5\">\r\n    <path clip-path=\"url(#pe50dcb4330)\" d=\"M 166.109531 214.756364 \r\nL 166.196719 214.756364 \r\nL 166.196719 17.083636 \r\nL 166.109531 17.083636 \r\nz\r\n\" style=\"fill:#ffffff;\"/>\r\n    <path clip-path=\"url(#pe50dcb4330)\" d=\"M 166.065937 214.756364 \r\nL 166.240312 214.756364 \r\nL 166.240312 17.083636 \r\nL 166.065937 17.083636 \r\nz\r\n\" style=\"fill:#ebf5e8;\"/>\r\n    <path clip-path=\"url(#pe50dcb4330)\" d=\"M 165.97875 214.756364 \r\nL 166.3275 214.756364 \r\nL 166.3275 32.289231 \r\nL 165.97875 32.289231 \r\nz\r\n\" style=\"fill:#d7ebd1;\"/>\r\n    <path clip-path=\"url(#pe50dcb4330)\" d=\"M 165.804375 214.756364 \r\nL 166.501875 214.756364 \r\nL 166.501875 47.494825 \r\nL 165.804375 47.494825 \r\nz\r\n\" style=\"fill:#c3e1ba;\"/>\r\n    <path clip-path=\"url(#pe50dcb4330)\" d=\"M 165.455625 214.756364 \r\nL 166.850625 214.756364 \r\nL 166.850625 80.281888 \r\nL 165.455625 80.281888 \r\nz\r\n\" style=\"fill:#afd6a3;\"/>\r\n    <path clip-path=\"url(#pe50dcb4330)\" d=\"M 164.758125 214.756364 \r\nL 167.548125 214.756364 \r\nL 167.548125 93.111608 \r\nL 164.758125 93.111608 \r\nz\r\n\" style=\"fill:#9bcc8c;\"/>\r\n    <path clip-path=\"url(#pe50dcb4330)\" d=\"M 163.363125 214.756364 \r\nL 168.943125 214.756364 \r\nL 168.943125 123.522797 \r\nL 163.363125 123.522797 \r\nz\r\n\" style=\"fill:#87c274;\"/>\r\n    <path clip-path=\"url(#pe50dcb4330)\" d=\"M 160.573125 214.756364 \r\nL 171.733125 214.756364 \r\nL 171.733125 138.728392 \r\nL 160.573125 138.728392 \r\nz\r\n\" style=\"fill:#73b85d;\"/>\r\n    <path clip-path=\"url(#pe50dcb4330)\" d=\"M 154.993125 199.550769 \r\nL 177.313125 199.550769 \r\nL 177.313125 153.933986 \r\nL 154.993125 153.933986 \r\nz\r\n\" style=\"fill:#60ae47;\"/>\r\n   </g>\r\n   <g id=\"PathCollection_6\"/>\r\n   <g id=\"PatchCollection_6\">\r\n    <path clip-path=\"url(#pe50dcb4330)\" d=\"M 194.009531 214.756364 \r\nL 194.096719 214.756364 \r\nL 194.096719 17.083636 \r\nL 194.009531 17.083636 \r\nz\r\n\" style=\"fill:#ffffff;\"/>\r\n    <path clip-path=\"url(#pe50dcb4330)\" d=\"M 193.965937 214.756364 \r\nL 194.140312 214.756364 \r\nL 194.140312 17.083636 \r\nL 193.965937 17.083636 \r\nz\r\n\" style=\"fill:#e8f5f0;\"/>\r\n    <path clip-path=\"url(#pe50dcb4330)\" d=\"M 193.87875 214.756364 \r\nL 194.2275 214.756364 \r\nL 194.2275 17.083636 \r\nL 193.87875 17.083636 \r\nz\r\n\" style=\"fill:#d2ebe2;\"/>\r\n    <path clip-path=\"url(#pe50dcb4330)\" d=\"M 193.704375 214.756364 \r\nL 194.401875 214.756364 \r\nL 194.401875 47.494825 \r\nL 193.704375 47.494825 \r\nz\r\n\" style=\"fill:#bbe1d3;\"/>\r\n    <path clip-path=\"url(#pe50dcb4330)\" d=\"M 193.355625 214.756364 \r\nL 194.750625 214.756364 \r\nL 194.750625 77.906014 \r\nL 193.355625 77.906014 \r\nz\r\n\" style=\"fill:#a4d6c4;\"/>\r\n    <path clip-path=\"url(#pe50dcb4330)\" d=\"M 192.658125 214.756364 \r\nL 195.448125 214.756364 \r\nL 195.448125 93.111608 \r\nL 192.658125 93.111608 \r\nz\r\n\" style=\"fill:#8dccb6;\"/>\r\n    <path clip-path=\"url(#pe50dcb4330)\" d=\"M 191.263125 214.756364 \r\nL 196.843125 214.756364 \r\nL 196.843125 108.317203 \r\nL 191.263125 108.317203 \r\nz\r\n\" style=\"fill:#77c2a7;\"/>\r\n    <path clip-path=\"url(#pe50dcb4330)\" d=\"M 188.473125 214.756364 \r\nL 199.633125 214.756364 \r\nL 199.633125 138.728392 \r\nL 188.473125 138.728392 \r\nz\r\n\" style=\"fill:#60b898;\"/>\r\n    <path clip-path=\"url(#pe50dcb4330)\" d=\"M 182.893125 199.550769 \r\nL 205.213125 199.550769 \r\nL 205.213125 169.13958 \r\nL 182.893125 169.13958 \r\nz\r\n\" style=\"fill:#4aae8a;\"/>\r\n   </g>\r\n   <g id=\"PathCollection_7\"/>\r\n   <g id=\"PatchCollection_7\">\r\n    <path clip-path=\"url(#pe50dcb4330)\" d=\"M 221.909531 214.756364 \r\nL 221.996719 214.756364 \r\nL 221.996719 17.083636 \r\nL 221.909531 17.083636 \r\nz\r\n\" style=\"fill:#ffffff;\"/>\r\n    <path clip-path=\"url(#pe50dcb4330)\" d=\"M 221.865937 214.756364 \r\nL 222.040312 214.756364 \r\nL 222.040312 17.083636 \r\nL 221.865937 17.083636 \r\nz\r\n\" style=\"fill:#e8f4f4;\"/>\r\n    <path clip-path=\"url(#pe50dcb4330)\" d=\"M 221.77875 214.756364 \r\nL 222.1275 214.756364 \r\nL 222.1275 47.494825 \r\nL 221.77875 47.494825 \r\nz\r\n\" style=\"fill:#d2eae8;\"/>\r\n    <path clip-path=\"url(#pe50dcb4330)\" d=\"M 221.604375 214.756364 \r\nL 222.301875 214.756364 \r\nL 222.301875 62.70042 \r\nL 221.604375 62.70042 \r\nz\r\n\" style=\"fill:#bbdfdd;\"/>\r\n    <path clip-path=\"url(#pe50dcb4330)\" d=\"M 221.255625 214.756364 \r\nL 222.650625 214.756364 \r\nL 222.650625 91.686084 \r\nL 221.255625 91.686084 \r\nz\r\n\" style=\"fill:#a5d5d1;\"/>\r\n    <path clip-path=\"url(#pe50dcb4330)\" d=\"M 220.558125 214.756364 \r\nL 223.348125 214.756364 \r\nL 223.348125 93.111608 \r\nL 220.558125 93.111608 \r\nz\r\n\" style=\"fill:#8ecac6;\"/>\r\n    <path clip-path=\"url(#pe50dcb4330)\" d=\"M 219.163125 214.756364 \r\nL 224.743125 214.756364 \r\nL 224.743125 123.522797 \r\nL 219.163125 123.522797 \r\nz\r\n\" style=\"fill:#77c0ba;\"/>\r\n    <path clip-path=\"url(#pe50dcb4330)\" d=\"M 216.373125 214.756364 \r\nL 227.533125 214.756364 \r\nL 227.533125 138.728392 \r\nL 216.373125 138.728392 \r\nz\r\n\" style=\"fill:#61b5af;\"/>\r\n    <path clip-path=\"url(#pe50dcb4330)\" d=\"M 210.793125 199.550769 \r\nL 233.113125 199.550769 \r\nL 233.113125 153.933986 \r\nL 210.793125 153.933986 \r\nz\r\n\" style=\"fill:#4baba4;\"/>\r\n   </g>\r\n   <g id=\"PathCollection_8\"/>\r\n   <g id=\"PatchCollection_8\">\r\n    <path clip-path=\"url(#pe50dcb4330)\" d=\"M 249.809531 214.756364 \r\nL 249.896719 214.756364 \r\nL 249.896719 17.083636 \r\nL 249.809531 17.083636 \r\nz\r\n\" style=\"fill:#ffffff;\"/>\r\n    <path clip-path=\"url(#pe50dcb4330)\" d=\"M 249.765937 214.756364 \r\nL 249.940312 214.756364 \r\nL 249.940312 17.083636 \r\nL 249.765937 17.083636 \r\nz\r\n\" style=\"fill:#e9f4f7;\"/>\r\n    <path clip-path=\"url(#pe50dcb4330)\" d=\"M 249.67875 214.756364 \r\nL 250.0275 214.756364 \r\nL 250.0275 17.083636 \r\nL 249.67875 17.083636 \r\nz\r\n\" style=\"fill:#d3eaee;\"/>\r\n    <path clip-path=\"url(#pe50dcb4330)\" d=\"M 249.504375 214.756364 \r\nL 250.201875 214.756364 \r\nL 250.201875 47.494825 \r\nL 249.504375 47.494825 \r\nz\r\n\" style=\"fill:#bddfe6;\"/>\r\n    <path clip-path=\"url(#pe50dcb4330)\" d=\"M 249.155625 214.756364 \r\nL 250.550625 214.756364 \r\nL 250.550625 93.111608 \r\nL 249.155625 93.111608 \r\nz\r\n\" style=\"fill:#a7d5dd;\"/>\r\n    <path clip-path=\"url(#pe50dcb4330)\" d=\"M 248.458125 214.756364 \r\nL 251.248125 214.756364 \r\nL 251.248125 93.111608 \r\nL 248.458125 93.111608 \r\nz\r\n\" style=\"fill:#91cad5;\"/>\r\n    <path clip-path=\"url(#pe50dcb4330)\" d=\"M 247.063125 214.756364 \r\nL 252.643125 214.756364 \r\nL 252.643125 108.317203 \r\nL 247.063125 108.317203 \r\nz\r\n\" style=\"fill:#7ac0cd;\"/>\r\n    <path clip-path=\"url(#pe50dcb4330)\" d=\"M 244.273125 214.756364 \r\nL 255.433125 214.756364 \r\nL 255.433125 138.728392 \r\nL 244.273125 138.728392 \r\nz\r\n\" style=\"fill:#64b5c4;\"/>\r\n    <path clip-path=\"url(#pe50dcb4330)\" d=\"M 238.693125 199.550769 \r\nL 261.013125 199.550769 \r\nL 261.013125 153.933986 \r\nL 238.693125 153.933986 \r\nz\r\n\" style=\"fill:#4fabbc;\"/>\r\n   </g>\r\n   <g id=\"PathCollection_9\"/>\r\n   <g id=\"PatchCollection_9\">\r\n    <path clip-path=\"url(#pe50dcb4330)\" d=\"M 277.709531 214.756364 \r\nL 277.796719 214.756364 \r\nL 277.796719 17.083636 \r\nL 277.709531 17.083636 \r\nz\r\n\" style=\"fill:#ffffff;\"/>\r\n    <path clip-path=\"url(#pe50dcb4330)\" d=\"M 277.665937 214.756364 \r\nL 277.840312 214.756364 \r\nL 277.840312 17.083636 \r\nL 277.665937 17.083636 \r\nz\r\n\" style=\"fill:#edf5fb;\"/>\r\n    <path clip-path=\"url(#pe50dcb4330)\" d=\"M 277.57875 214.756364 \r\nL 277.9275 214.756364 \r\nL 277.9275 32.289231 \r\nL 277.57875 32.289231 \r\nz\r\n\" style=\"fill:#daebf8;\"/>\r\n    <path clip-path=\"url(#pe50dcb4330)\" d=\"M 277.404375 214.756364 \r\nL 278.101875 214.756364 \r\nL 278.101875 47.494825 \r\nL 277.404375 47.494825 \r\nz\r\n\" style=\"fill:#c8e1f4;\"/>\r\n    <path clip-path=\"url(#pe50dcb4330)\" d=\"M 277.055625 214.756364 \r\nL 278.450625 214.756364 \r\nL 278.450625 93.111608 \r\nL 277.055625 93.111608 \r\nz\r\n\" style=\"fill:#b6d6f0;\"/>\r\n    <path clip-path=\"url(#pe50dcb4330)\" d=\"M 276.358125 214.756364 \r\nL 279.148125 214.756364 \r\nL 279.148125 93.111608 \r\nL 276.358125 93.111608 \r\nz\r\n\" style=\"fill:#a3cced;\"/>\r\n    <path clip-path=\"url(#pe50dcb4330)\" d=\"M 274.963125 214.756364 \r\nL 280.543125 214.756364 \r\nL 280.543125 123.522797 \r\nL 274.963125 123.522797 \r\nz\r\n\" style=\"fill:#91c2e9;\"/>\r\n    <path clip-path=\"url(#pe50dcb4330)\" d=\"M 272.173125 214.756364 \r\nL 283.333125 214.756364 \r\nL 283.333125 138.728392 \r\nL 272.173125 138.728392 \r\nz\r\n\" style=\"fill:#7fb8e6;\"/>\r\n    <path clip-path=\"url(#pe50dcb4330)\" d=\"M 266.593125 199.550769 \r\nL 288.913125 199.550769 \r\nL 288.913125 153.933986 \r\nL 266.593125 153.933986 \r\nz\r\n\" style=\"fill:#6daee2;\"/>\r\n   </g>\r\n   <g id=\"PathCollection_10\"/>\r\n   <g id=\"PatchCollection_10\">\r\n    <path clip-path=\"url(#pe50dcb4330)\" d=\"M 305.631328 214.756364 \r\nL 305.674922 214.756364 \r\nL 305.674922 17.083636 \r\nL 305.631328 17.083636 \r\nz\r\n\" style=\"fill:#ffffff;\"/>\r\n    <path clip-path=\"url(#pe50dcb4330)\" d=\"M 305.609531 214.756364 \r\nL 305.696719 214.756364 \r\nL 305.696719 17.083636 \r\nL 305.609531 17.083636 \r\nz\r\n\" style=\"fill:#f7f5fd;\"/>\r\n    <path clip-path=\"url(#pe50dcb4330)\" d=\"M 305.565937 214.756364 \r\nL 305.740312 214.756364 \r\nL 305.740312 17.083636 \r\nL 305.565937 17.083636 \r\nz\r\n\" style=\"fill:#efecfb;\"/>\r\n    <path clip-path=\"url(#pe50dcb4330)\" d=\"M 305.47875 214.756364 \r\nL 305.8275 214.756364 \r\nL 305.8275 17.083636 \r\nL 305.47875 17.083636 \r\nz\r\n\" style=\"fill:#e7e2f8;\"/>\r\n    <path clip-path=\"url(#pe50dcb4330)\" d=\"M 305.304375 214.756364 \r\nL 306.001875 214.756364 \r\nL 306.001875 47.494825 \r\nL 305.304375 47.494825 \r\nz\r\n\" style=\"fill:#dfd8f6;\"/>\r\n    <path clip-path=\"url(#pe50dcb4330)\" d=\"M 304.955625 214.756364 \r\nL 306.350625 214.756364 \r\nL 306.350625 77.906014 \r\nL 304.955625 77.906014 \r\nz\r\n\" style=\"fill:#d6cff4;\"/>\r\n    <path clip-path=\"url(#pe50dcb4330)\" d=\"M 304.258125 214.756364 \r\nL 307.048125 214.756364 \r\nL 307.048125 93.111608 \r\nL 304.258125 93.111608 \r\nz\r\n\" style=\"fill:#cec5f2;\"/>\r\n    <path clip-path=\"url(#pe50dcb4330)\" d=\"M 302.863125 214.756364 \r\nL 308.443125 214.756364 \r\nL 308.443125 108.317203 \r\nL 302.863125 108.317203 \r\nz\r\n\" style=\"fill:#c6bbef;\"/>\r\n    <path clip-path=\"url(#pe50dcb4330)\" d=\"M 300.073125 214.756364 \r\nL 311.233125 214.756364 \r\nL 311.233125 138.728392 \r\nL 300.073125 138.728392 \r\nz\r\n\" style=\"fill:#beb2ed;\"/>\r\n    <path clip-path=\"url(#pe50dcb4330)\" d=\"M 294.493125 199.550769 \r\nL 316.813125 199.550769 \r\nL 316.813125 153.933986 \r\nL 294.493125 153.933986 \r\nz\r\n\" style=\"fill:#b6a8eb;\"/>\r\n   </g>\r\n   <g id=\"PathCollection_11\"/>\r\n   <g id=\"PatchCollection_11\">\r\n    <path clip-path=\"url(#pe50dcb4330)\" d=\"M 333.509531 214.756364 \r\nL 333.596719 214.756364 \r\nL 333.596719 17.083636 \r\nL 333.509531 17.083636 \r\nz\r\n\" style=\"fill:#ffffff;\"/>\r\n    <path clip-path=\"url(#pe50dcb4330)\" d=\"M 333.465937 214.756364 \r\nL 333.640312 214.756364 \r\nL 333.640312 17.083636 \r\nL 333.465937 17.083636 \r\nz\r\n\" style=\"fill:#fbf1fc;\"/>\r\n    <path clip-path=\"url(#pe50dcb4330)\" d=\"M 333.37875 214.756364 \r\nL 333.7275 214.756364 \r\nL 333.7275 32.289231 \r\nL 333.37875 32.289231 \r\nz\r\n\" style=\"fill:#f7e3f9;\"/>\r\n    <path clip-path=\"url(#pe50dcb4330)\" d=\"M 333.204375 214.756364 \r\nL 333.901875 214.756364 \r\nL 333.901875 52.008986 \r\nL 333.204375 52.008986 \r\nz\r\n\" style=\"fill:#f3d5f6;\"/>\r\n    <path clip-path=\"url(#pe50dcb4330)\" d=\"M 332.855625 214.756364 \r\nL 334.250625 214.756364 \r\nL 334.250625 77.906014 \r\nL 332.855625 77.906014 \r\nz\r\n\" style=\"fill:#efc7f3;\"/>\r\n    <path clip-path=\"url(#pe50dcb4330)\" d=\"M 332.158125 214.756364 \r\nL 334.948125 214.756364 \r\nL 334.948125 93.111608 \r\nL 332.158125 93.111608 \r\nz\r\n\" style=\"fill:#ebb9f0;\"/>\r\n    <path clip-path=\"url(#pe50dcb4330)\" d=\"M 330.763125 214.756364 \r\nL 336.343125 214.756364 \r\nL 336.343125 123.522797 \r\nL 330.763125 123.522797 \r\nz\r\n\" style=\"fill:#e7abed;\"/>\r\n    <path clip-path=\"url(#pe50dcb4330)\" d=\"M 327.973125 214.756364 \r\nL 339.133125 214.756364 \r\nL 339.133125 138.728392 \r\nL 327.973125 138.728392 \r\nz\r\n\" style=\"fill:#e39dea;\"/>\r\n    <path clip-path=\"url(#pe50dcb4330)\" d=\"M 322.393125 199.550769 \r\nL 344.713125 199.550769 \r\nL 344.713125 153.933986 \r\nL 322.393125 153.933986 \r\nz\r\n\" style=\"fill:#df8fe7;\"/>\r\n   </g>\r\n   <g id=\"PathCollection_12\"/>\r\n   <g id=\"PatchCollection_12\">\r\n    <path clip-path=\"url(#pe50dcb4330)\" d=\"M 361.409531 214.756364 \r\nL 361.496719 214.756364 \r\nL 361.496719 17.083636 \r\nL 361.409531 17.083636 \r\nz\r\n\" style=\"fill:#ffffff;\"/>\r\n    <path clip-path=\"url(#pe50dcb4330)\" d=\"M 361.365937 214.756364 \r\nL 361.540312 214.756364 \r\nL 361.540312 17.083636 \r\nL 361.365937 17.083636 \r\nz\r\n\" style=\"fill:#fcf1f8;\"/>\r\n    <path clip-path=\"url(#pe50dcb4330)\" d=\"M 361.27875 214.756364 \r\nL 361.6275 214.756364 \r\nL 361.6275 32.289231 \r\nL 361.27875 32.289231 \r\nz\r\n\" style=\"fill:#f9e3f1;\"/>\r\n    <path clip-path=\"url(#pe50dcb4330)\" d=\"M 361.104375 214.756364 \r\nL 361.801875 214.756364 \r\nL 361.801875 47.494825 \r\nL 361.104375 47.494825 \r\nz\r\n\" style=\"fill:#f6d5ea;\"/>\r\n    <path clip-path=\"url(#pe50dcb4330)\" d=\"M 360.755625 214.756364 \r\nL 362.150625 214.756364 \r\nL 362.150625 77.906014 \r\nL 360.755625 77.906014 \r\nz\r\n\" style=\"fill:#f3c7e2;\"/>\r\n    <path clip-path=\"url(#pe50dcb4330)\" d=\"M 360.058125 214.756364 \r\nL 362.848125 214.756364 \r\nL 362.848125 93.111608 \r\nL 360.058125 93.111608 \r\nz\r\n\" style=\"fill:#f1b9db;\"/>\r\n    <path clip-path=\"url(#pe50dcb4330)\" d=\"M 358.663125 214.756364 \r\nL 364.243125 214.756364 \r\nL 364.243125 108.317203 \r\nL 358.663125 108.317203 \r\nz\r\n\" style=\"fill:#eeabd4;\"/>\r\n    <path clip-path=\"url(#pe50dcb4330)\" d=\"M 355.873125 214.756364 \r\nL 367.033125 214.756364 \r\nL 367.033125 138.728392 \r\nL 355.873125 138.728392 \r\nz\r\n\" style=\"fill:#eb9dcd;\"/>\r\n    <path clip-path=\"url(#pe50dcb4330)\" d=\"M 350.293125 199.550769 \r\nL 372.613125 199.550769 \r\nL 372.613125 153.933986 \r\nL 350.293125 153.933986 \r\nz\r\n\" style=\"fill:#e890c6;\"/>\r\n   </g>\r\n   <g id=\"matplotlib.axis_1\">\r\n    <g id=\"xtick_1\">\r\n     <g id=\"line2d_1\">\r\n      <defs>\r\n       <path d=\"M 0 0 \r\nL 0 3.5 \r\n\" id=\"m2290d0ecf8\" style=\"stroke:#000000;stroke-width:0.8;\"/>\r\n      </defs>\r\n      <g>\r\n       <use style=\"stroke:#000000;stroke-width:0.8;\" x=\"54.553125\" xlink:href=\"#m2290d0ecf8\" y=\"224.64\"/>\r\n      </g>\r\n     </g>\r\n     <g id=\"text_1\">\r\n      <!-- 1 -->\r\n      <defs>\r\n       <path d=\"M 12.40625 8.296875 \r\nL 28.515625 8.296875 \r\nL 28.515625 63.921875 \r\nL 10.984375 60.40625 \r\nL 10.984375 69.390625 \r\nL 28.421875 72.90625 \r\nL 38.28125 72.90625 \r\nL 38.28125 8.296875 \r\nL 54.390625 8.296875 \r\nL 54.390625 0 \r\nL 12.40625 0 \r\nz\r\n\" id=\"DejaVuSans-49\"/>\r\n      </defs>\r\n      <g transform=\"translate(51.371875 239.238438)scale(0.1 -0.1)\">\r\n       <use xlink:href=\"#DejaVuSans-49\"/>\r\n      </g>\r\n     </g>\r\n    </g>\r\n    <g id=\"xtick_2\">\r\n     <g id=\"line2d_2\">\r\n      <g>\r\n       <use style=\"stroke:#000000;stroke-width:0.8;\" x=\"82.453125\" xlink:href=\"#m2290d0ecf8\" y=\"224.64\"/>\r\n      </g>\r\n     </g>\r\n     <g id=\"text_2\">\r\n      <!-- 2 -->\r\n      <defs>\r\n       <path d=\"M 19.1875 8.296875 \r\nL 53.609375 8.296875 \r\nL 53.609375 0 \r\nL 7.328125 0 \r\nL 7.328125 8.296875 \r\nQ 12.9375 14.109375 22.625 23.890625 \r\nQ 32.328125 33.6875 34.8125 36.53125 \r\nQ 39.546875 41.84375 41.421875 45.53125 \r\nQ 43.3125 49.21875 43.3125 52.78125 \r\nQ 43.3125 58.59375 39.234375 62.25 \r\nQ 35.15625 65.921875 28.609375 65.921875 \r\nQ 23.96875 65.921875 18.8125 64.3125 \r\nQ 13.671875 62.703125 7.8125 59.421875 \r\nL 7.8125 69.390625 \r\nQ 13.765625 71.78125 18.9375 73 \r\nQ 24.125 74.21875 28.421875 74.21875 \r\nQ 39.75 74.21875 46.484375 68.546875 \r\nQ 53.21875 62.890625 53.21875 53.421875 \r\nQ 53.21875 48.921875 51.53125 44.890625 \r\nQ 49.859375 40.875 45.40625 35.40625 \r\nQ 44.1875 33.984375 37.640625 27.21875 \r\nQ 31.109375 20.453125 19.1875 8.296875 \r\nz\r\n\" id=\"DejaVuSans-50\"/>\r\n      </defs>\r\n      <g transform=\"translate(79.271875 239.238438)scale(0.1 -0.1)\">\r\n       <use xlink:href=\"#DejaVuSans-50\"/>\r\n      </g>\r\n     </g>\r\n    </g>\r\n    <g id=\"xtick_3\">\r\n     <g id=\"line2d_3\">\r\n      <g>\r\n       <use style=\"stroke:#000000;stroke-width:0.8;\" x=\"110.353125\" xlink:href=\"#m2290d0ecf8\" y=\"224.64\"/>\r\n      </g>\r\n     </g>\r\n     <g id=\"text_3\">\r\n      <!-- 3 -->\r\n      <defs>\r\n       <path d=\"M 40.578125 39.3125 \r\nQ 47.65625 37.796875 51.625 33 \r\nQ 55.609375 28.21875 55.609375 21.1875 \r\nQ 55.609375 10.40625 48.1875 4.484375 \r\nQ 40.765625 -1.421875 27.09375 -1.421875 \r\nQ 22.515625 -1.421875 17.65625 -0.515625 \r\nQ 12.796875 0.390625 7.625 2.203125 \r\nL 7.625 11.71875 \r\nQ 11.71875 9.328125 16.59375 8.109375 \r\nQ 21.484375 6.890625 26.8125 6.890625 \r\nQ 36.078125 6.890625 40.9375 10.546875 \r\nQ 45.796875 14.203125 45.796875 21.1875 \r\nQ 45.796875 27.640625 41.28125 31.265625 \r\nQ 36.765625 34.90625 28.71875 34.90625 \r\nL 20.21875 34.90625 \r\nL 20.21875 43.015625 \r\nL 29.109375 43.015625 \r\nQ 36.375 43.015625 40.234375 45.921875 \r\nQ 44.09375 48.828125 44.09375 54.296875 \r\nQ 44.09375 59.90625 40.109375 62.90625 \r\nQ 36.140625 65.921875 28.71875 65.921875 \r\nQ 24.65625 65.921875 20.015625 65.03125 \r\nQ 15.375 64.15625 9.8125 62.3125 \r\nL 9.8125 71.09375 \r\nQ 15.4375 72.65625 20.34375 73.4375 \r\nQ 25.25 74.21875 29.59375 74.21875 \r\nQ 40.828125 74.21875 47.359375 69.109375 \r\nQ 53.90625 64.015625 53.90625 55.328125 \r\nQ 53.90625 49.265625 50.4375 45.09375 \r\nQ 46.96875 40.921875 40.578125 39.3125 \r\nz\r\n\" id=\"DejaVuSans-51\"/>\r\n      </defs>\r\n      <g transform=\"translate(107.171875 239.238438)scale(0.1 -0.1)\">\r\n       <use xlink:href=\"#DejaVuSans-51\"/>\r\n      </g>\r\n     </g>\r\n    </g>\r\n    <g id=\"xtick_4\">\r\n     <g id=\"line2d_4\">\r\n      <g>\r\n       <use style=\"stroke:#000000;stroke-width:0.8;\" x=\"138.253125\" xlink:href=\"#m2290d0ecf8\" y=\"224.64\"/>\r\n      </g>\r\n     </g>\r\n     <g id=\"text_4\">\r\n      <!-- 4 -->\r\n      <defs>\r\n       <path d=\"M 37.796875 64.3125 \r\nL 12.890625 25.390625 \r\nL 37.796875 25.390625 \r\nz\r\nM 35.203125 72.90625 \r\nL 47.609375 72.90625 \r\nL 47.609375 25.390625 \r\nL 58.015625 25.390625 \r\nL 58.015625 17.1875 \r\nL 47.609375 17.1875 \r\nL 47.609375 0 \r\nL 37.796875 0 \r\nL 37.796875 17.1875 \r\nL 4.890625 17.1875 \r\nL 4.890625 26.703125 \r\nz\r\n\" id=\"DejaVuSans-52\"/>\r\n      </defs>\r\n      <g transform=\"translate(135.071875 239.238438)scale(0.1 -0.1)\">\r\n       <use xlink:href=\"#DejaVuSans-52\"/>\r\n      </g>\r\n     </g>\r\n    </g>\r\n    <g id=\"xtick_5\">\r\n     <g id=\"line2d_5\">\r\n      <g>\r\n       <use style=\"stroke:#000000;stroke-width:0.8;\" x=\"166.153125\" xlink:href=\"#m2290d0ecf8\" y=\"224.64\"/>\r\n      </g>\r\n     </g>\r\n     <g id=\"text_5\">\r\n      <!-- 5 -->\r\n      <defs>\r\n       <path d=\"M 10.796875 72.90625 \r\nL 49.515625 72.90625 \r\nL 49.515625 64.59375 \r\nL 19.828125 64.59375 \r\nL 19.828125 46.734375 \r\nQ 21.96875 47.46875 24.109375 47.828125 \r\nQ 26.265625 48.1875 28.421875 48.1875 \r\nQ 40.625 48.1875 47.75 41.5 \r\nQ 54.890625 34.8125 54.890625 23.390625 \r\nQ 54.890625 11.625 47.5625 5.09375 \r\nQ 40.234375 -1.421875 26.90625 -1.421875 \r\nQ 22.3125 -1.421875 17.546875 -0.640625 \r\nQ 12.796875 0.140625 7.71875 1.703125 \r\nL 7.71875 11.625 \r\nQ 12.109375 9.234375 16.796875 8.0625 \r\nQ 21.484375 6.890625 26.703125 6.890625 \r\nQ 35.15625 6.890625 40.078125 11.328125 \r\nQ 45.015625 15.765625 45.015625 23.390625 \r\nQ 45.015625 31 40.078125 35.4375 \r\nQ 35.15625 39.890625 26.703125 39.890625 \r\nQ 22.75 39.890625 18.8125 39.015625 \r\nQ 14.890625 38.140625 10.796875 36.28125 \r\nz\r\n\" id=\"DejaVuSans-53\"/>\r\n      </defs>\r\n      <g transform=\"translate(162.971875 239.238438)scale(0.1 -0.1)\">\r\n       <use xlink:href=\"#DejaVuSans-53\"/>\r\n      </g>\r\n     </g>\r\n    </g>\r\n    <g id=\"xtick_6\">\r\n     <g id=\"line2d_6\">\r\n      <g>\r\n       <use style=\"stroke:#000000;stroke-width:0.8;\" x=\"194.053125\" xlink:href=\"#m2290d0ecf8\" y=\"224.64\"/>\r\n      </g>\r\n     </g>\r\n     <g id=\"text_6\">\r\n      <!-- 6 -->\r\n      <defs>\r\n       <path d=\"M 33.015625 40.375 \r\nQ 26.375 40.375 22.484375 35.828125 \r\nQ 18.609375 31.296875 18.609375 23.390625 \r\nQ 18.609375 15.53125 22.484375 10.953125 \r\nQ 26.375 6.390625 33.015625 6.390625 \r\nQ 39.65625 6.390625 43.53125 10.953125 \r\nQ 47.40625 15.53125 47.40625 23.390625 \r\nQ 47.40625 31.296875 43.53125 35.828125 \r\nQ 39.65625 40.375 33.015625 40.375 \r\nz\r\nM 52.59375 71.296875 \r\nL 52.59375 62.3125 \r\nQ 48.875 64.0625 45.09375 64.984375 \r\nQ 41.3125 65.921875 37.59375 65.921875 \r\nQ 27.828125 65.921875 22.671875 59.328125 \r\nQ 17.53125 52.734375 16.796875 39.40625 \r\nQ 19.671875 43.65625 24.015625 45.921875 \r\nQ 28.375 48.1875 33.59375 48.1875 \r\nQ 44.578125 48.1875 50.953125 41.515625 \r\nQ 57.328125 34.859375 57.328125 23.390625 \r\nQ 57.328125 12.15625 50.6875 5.359375 \r\nQ 44.046875 -1.421875 33.015625 -1.421875 \r\nQ 20.359375 -1.421875 13.671875 8.265625 \r\nQ 6.984375 17.96875 6.984375 36.375 \r\nQ 6.984375 53.65625 15.1875 63.9375 \r\nQ 23.390625 74.21875 37.203125 74.21875 \r\nQ 40.921875 74.21875 44.703125 73.484375 \r\nQ 48.484375 72.75 52.59375 71.296875 \r\nz\r\n\" id=\"DejaVuSans-54\"/>\r\n      </defs>\r\n      <g transform=\"translate(190.871875 239.238438)scale(0.1 -0.1)\">\r\n       <use xlink:href=\"#DejaVuSans-54\"/>\r\n      </g>\r\n     </g>\r\n    </g>\r\n    <g id=\"xtick_7\">\r\n     <g id=\"line2d_7\">\r\n      <g>\r\n       <use style=\"stroke:#000000;stroke-width:0.8;\" x=\"221.953125\" xlink:href=\"#m2290d0ecf8\" y=\"224.64\"/>\r\n      </g>\r\n     </g>\r\n     <g id=\"text_7\">\r\n      <!-- 7 -->\r\n      <defs>\r\n       <path d=\"M 8.203125 72.90625 \r\nL 55.078125 72.90625 \r\nL 55.078125 68.703125 \r\nL 28.609375 0 \r\nL 18.3125 0 \r\nL 43.21875 64.59375 \r\nL 8.203125 64.59375 \r\nz\r\n\" id=\"DejaVuSans-55\"/>\r\n      </defs>\r\n      <g transform=\"translate(218.771875 239.238438)scale(0.1 -0.1)\">\r\n       <use xlink:href=\"#DejaVuSans-55\"/>\r\n      </g>\r\n     </g>\r\n    </g>\r\n    <g id=\"xtick_8\">\r\n     <g id=\"line2d_8\">\r\n      <g>\r\n       <use style=\"stroke:#000000;stroke-width:0.8;\" x=\"249.853125\" xlink:href=\"#m2290d0ecf8\" y=\"224.64\"/>\r\n      </g>\r\n     </g>\r\n     <g id=\"text_8\">\r\n      <!-- 8 -->\r\n      <defs>\r\n       <path d=\"M 31.78125 34.625 \r\nQ 24.75 34.625 20.71875 30.859375 \r\nQ 16.703125 27.09375 16.703125 20.515625 \r\nQ 16.703125 13.921875 20.71875 10.15625 \r\nQ 24.75 6.390625 31.78125 6.390625 \r\nQ 38.8125 6.390625 42.859375 10.171875 \r\nQ 46.921875 13.96875 46.921875 20.515625 \r\nQ 46.921875 27.09375 42.890625 30.859375 \r\nQ 38.875 34.625 31.78125 34.625 \r\nz\r\nM 21.921875 38.8125 \r\nQ 15.578125 40.375 12.03125 44.71875 \r\nQ 8.5 49.078125 8.5 55.328125 \r\nQ 8.5 64.0625 14.71875 69.140625 \r\nQ 20.953125 74.21875 31.78125 74.21875 \r\nQ 42.671875 74.21875 48.875 69.140625 \r\nQ 55.078125 64.0625 55.078125 55.328125 \r\nQ 55.078125 49.078125 51.53125 44.71875 \r\nQ 48 40.375 41.703125 38.8125 \r\nQ 48.828125 37.15625 52.796875 32.3125 \r\nQ 56.78125 27.484375 56.78125 20.515625 \r\nQ 56.78125 9.90625 50.3125 4.234375 \r\nQ 43.84375 -1.421875 31.78125 -1.421875 \r\nQ 19.734375 -1.421875 13.25 4.234375 \r\nQ 6.78125 9.90625 6.78125 20.515625 \r\nQ 6.78125 27.484375 10.78125 32.3125 \r\nQ 14.796875 37.15625 21.921875 38.8125 \r\nz\r\nM 18.3125 54.390625 \r\nQ 18.3125 48.734375 21.84375 45.5625 \r\nQ 25.390625 42.390625 31.78125 42.390625 \r\nQ 38.140625 42.390625 41.71875 45.5625 \r\nQ 45.3125 48.734375 45.3125 54.390625 \r\nQ 45.3125 60.0625 41.71875 63.234375 \r\nQ 38.140625 66.40625 31.78125 66.40625 \r\nQ 25.390625 66.40625 21.84375 63.234375 \r\nQ 18.3125 60.0625 18.3125 54.390625 \r\nz\r\n\" id=\"DejaVuSans-56\"/>\r\n      </defs>\r\n      <g transform=\"translate(246.671875 239.238438)scale(0.1 -0.1)\">\r\n       <use xlink:href=\"#DejaVuSans-56\"/>\r\n      </g>\r\n     </g>\r\n    </g>\r\n    <g id=\"xtick_9\">\r\n     <g id=\"line2d_9\">\r\n      <g>\r\n       <use style=\"stroke:#000000;stroke-width:0.8;\" x=\"277.753125\" xlink:href=\"#m2290d0ecf8\" y=\"224.64\"/>\r\n      </g>\r\n     </g>\r\n     <g id=\"text_9\">\r\n      <!-- 9 -->\r\n      <defs>\r\n       <path d=\"M 10.984375 1.515625 \r\nL 10.984375 10.5 \r\nQ 14.703125 8.734375 18.5 7.8125 \r\nQ 22.3125 6.890625 25.984375 6.890625 \r\nQ 35.75 6.890625 40.890625 13.453125 \r\nQ 46.046875 20.015625 46.78125 33.40625 \r\nQ 43.953125 29.203125 39.59375 26.953125 \r\nQ 35.25 24.703125 29.984375 24.703125 \r\nQ 19.046875 24.703125 12.671875 31.3125 \r\nQ 6.296875 37.9375 6.296875 49.421875 \r\nQ 6.296875 60.640625 12.9375 67.421875 \r\nQ 19.578125 74.21875 30.609375 74.21875 \r\nQ 43.265625 74.21875 49.921875 64.515625 \r\nQ 56.59375 54.828125 56.59375 36.375 \r\nQ 56.59375 19.140625 48.40625 8.859375 \r\nQ 40.234375 -1.421875 26.421875 -1.421875 \r\nQ 22.703125 -1.421875 18.890625 -0.6875 \r\nQ 15.09375 0.046875 10.984375 1.515625 \r\nz\r\nM 30.609375 32.421875 \r\nQ 37.25 32.421875 41.125 36.953125 \r\nQ 45.015625 41.5 45.015625 49.421875 \r\nQ 45.015625 57.28125 41.125 61.84375 \r\nQ 37.25 66.40625 30.609375 66.40625 \r\nQ 23.96875 66.40625 20.09375 61.84375 \r\nQ 16.21875 57.28125 16.21875 49.421875 \r\nQ 16.21875 41.5 20.09375 36.953125 \r\nQ 23.96875 32.421875 30.609375 32.421875 \r\nz\r\n\" id=\"DejaVuSans-57\"/>\r\n      </defs>\r\n      <g transform=\"translate(274.571875 239.238438)scale(0.1 -0.1)\">\r\n       <use xlink:href=\"#DejaVuSans-57\"/>\r\n      </g>\r\n     </g>\r\n    </g>\r\n    <g id=\"xtick_10\">\r\n     <g id=\"line2d_10\">\r\n      <g>\r\n       <use style=\"stroke:#000000;stroke-width:0.8;\" x=\"305.653125\" xlink:href=\"#m2290d0ecf8\" y=\"224.64\"/>\r\n      </g>\r\n     </g>\r\n     <g id=\"text_10\">\r\n      <!-- 10 -->\r\n      <defs>\r\n       <path d=\"M 31.78125 66.40625 \r\nQ 24.171875 66.40625 20.328125 58.90625 \r\nQ 16.5 51.421875 16.5 36.375 \r\nQ 16.5 21.390625 20.328125 13.890625 \r\nQ 24.171875 6.390625 31.78125 6.390625 \r\nQ 39.453125 6.390625 43.28125 13.890625 \r\nQ 47.125 21.390625 47.125 36.375 \r\nQ 47.125 51.421875 43.28125 58.90625 \r\nQ 39.453125 66.40625 31.78125 66.40625 \r\nz\r\nM 31.78125 74.21875 \r\nQ 44.046875 74.21875 50.515625 64.515625 \r\nQ 56.984375 54.828125 56.984375 36.375 \r\nQ 56.984375 17.96875 50.515625 8.265625 \r\nQ 44.046875 -1.421875 31.78125 -1.421875 \r\nQ 19.53125 -1.421875 13.0625 8.265625 \r\nQ 6.59375 17.96875 6.59375 36.375 \r\nQ 6.59375 54.828125 13.0625 64.515625 \r\nQ 19.53125 74.21875 31.78125 74.21875 \r\nz\r\n\" id=\"DejaVuSans-48\"/>\r\n      </defs>\r\n      <g transform=\"translate(299.290625 239.238438)scale(0.1 -0.1)\">\r\n       <use xlink:href=\"#DejaVuSans-49\"/>\r\n       <use x=\"63.623047\" xlink:href=\"#DejaVuSans-48\"/>\r\n      </g>\r\n     </g>\r\n    </g>\r\n    <g id=\"xtick_11\">\r\n     <g id=\"line2d_11\">\r\n      <g>\r\n       <use style=\"stroke:#000000;stroke-width:0.8;\" x=\"333.553125\" xlink:href=\"#m2290d0ecf8\" y=\"224.64\"/>\r\n      </g>\r\n     </g>\r\n     <g id=\"text_11\">\r\n      <!-- 11 -->\r\n      <g transform=\"translate(327.190625 239.238438)scale(0.1 -0.1)\">\r\n       <use xlink:href=\"#DejaVuSans-49\"/>\r\n       <use x=\"63.623047\" xlink:href=\"#DejaVuSans-49\"/>\r\n      </g>\r\n     </g>\r\n    </g>\r\n    <g id=\"xtick_12\">\r\n     <g id=\"line2d_12\">\r\n      <g>\r\n       <use style=\"stroke:#000000;stroke-width:0.8;\" x=\"361.453125\" xlink:href=\"#m2290d0ecf8\" y=\"224.64\"/>\r\n      </g>\r\n     </g>\r\n     <g id=\"text_12\">\r\n      <!-- 12 -->\r\n      <g transform=\"translate(355.090625 239.238438)scale(0.1 -0.1)\">\r\n       <use xlink:href=\"#DejaVuSans-49\"/>\r\n       <use x=\"63.623047\" xlink:href=\"#DejaVuSans-50\"/>\r\n      </g>\r\n     </g>\r\n    </g>\r\n    <g id=\"text_13\">\r\n     <!-- order_month -->\r\n     <defs>\r\n      <path d=\"M 30.609375 48.390625 \r\nQ 23.390625 48.390625 19.1875 42.75 \r\nQ 14.984375 37.109375 14.984375 27.296875 \r\nQ 14.984375 17.484375 19.15625 11.84375 \r\nQ 23.34375 6.203125 30.609375 6.203125 \r\nQ 37.796875 6.203125 41.984375 11.859375 \r\nQ 46.1875 17.53125 46.1875 27.296875 \r\nQ 46.1875 37.015625 41.984375 42.703125 \r\nQ 37.796875 48.390625 30.609375 48.390625 \r\nz\r\nM 30.609375 56 \r\nQ 42.328125 56 49.015625 48.375 \r\nQ 55.71875 40.765625 55.71875 27.296875 \r\nQ 55.71875 13.875 49.015625 6.21875 \r\nQ 42.328125 -1.421875 30.609375 -1.421875 \r\nQ 18.84375 -1.421875 12.171875 6.21875 \r\nQ 5.515625 13.875 5.515625 27.296875 \r\nQ 5.515625 40.765625 12.171875 48.375 \r\nQ 18.84375 56 30.609375 56 \r\nz\r\n\" id=\"DejaVuSans-111\"/>\r\n      <path d=\"M 41.109375 46.296875 \r\nQ 39.59375 47.171875 37.8125 47.578125 \r\nQ 36.03125 48 33.890625 48 \r\nQ 26.265625 48 22.1875 43.046875 \r\nQ 18.109375 38.09375 18.109375 28.8125 \r\nL 18.109375 0 \r\nL 9.078125 0 \r\nL 9.078125 54.6875 \r\nL 18.109375 54.6875 \r\nL 18.109375 46.1875 \r\nQ 20.953125 51.171875 25.484375 53.578125 \r\nQ 30.03125 56 36.53125 56 \r\nQ 37.453125 56 38.578125 55.875 \r\nQ 39.703125 55.765625 41.0625 55.515625 \r\nz\r\n\" id=\"DejaVuSans-114\"/>\r\n      <path d=\"M 45.40625 46.390625 \r\nL 45.40625 75.984375 \r\nL 54.390625 75.984375 \r\nL 54.390625 0 \r\nL 45.40625 0 \r\nL 45.40625 8.203125 \r\nQ 42.578125 3.328125 38.25 0.953125 \r\nQ 33.9375 -1.421875 27.875 -1.421875 \r\nQ 17.96875 -1.421875 11.734375 6.484375 \r\nQ 5.515625 14.40625 5.515625 27.296875 \r\nQ 5.515625 40.1875 11.734375 48.09375 \r\nQ 17.96875 56 27.875 56 \r\nQ 33.9375 56 38.25 53.625 \r\nQ 42.578125 51.265625 45.40625 46.390625 \r\nz\r\nM 14.796875 27.296875 \r\nQ 14.796875 17.390625 18.875 11.75 \r\nQ 22.953125 6.109375 30.078125 6.109375 \r\nQ 37.203125 6.109375 41.296875 11.75 \r\nQ 45.40625 17.390625 45.40625 27.296875 \r\nQ 45.40625 37.203125 41.296875 42.84375 \r\nQ 37.203125 48.484375 30.078125 48.484375 \r\nQ 22.953125 48.484375 18.875 42.84375 \r\nQ 14.796875 37.203125 14.796875 27.296875 \r\nz\r\n\" id=\"DejaVuSans-100\"/>\r\n      <path d=\"M 56.203125 29.59375 \r\nL 56.203125 25.203125 \r\nL 14.890625 25.203125 \r\nQ 15.484375 15.921875 20.484375 11.0625 \r\nQ 25.484375 6.203125 34.421875 6.203125 \r\nQ 39.59375 6.203125 44.453125 7.46875 \r\nQ 49.3125 8.734375 54.109375 11.28125 \r\nL 54.109375 2.78125 \r\nQ 49.265625 0.734375 44.1875 -0.34375 \r\nQ 39.109375 -1.421875 33.890625 -1.421875 \r\nQ 20.796875 -1.421875 13.15625 6.1875 \r\nQ 5.515625 13.8125 5.515625 26.8125 \r\nQ 5.515625 40.234375 12.765625 48.109375 \r\nQ 20.015625 56 32.328125 56 \r\nQ 43.359375 56 49.78125 48.890625 \r\nQ 56.203125 41.796875 56.203125 29.59375 \r\nz\r\nM 47.21875 32.234375 \r\nQ 47.125 39.59375 43.09375 43.984375 \r\nQ 39.0625 48.390625 32.421875 48.390625 \r\nQ 24.90625 48.390625 20.390625 44.140625 \r\nQ 15.875 39.890625 15.1875 32.171875 \r\nz\r\n\" id=\"DejaVuSans-101\"/>\r\n      <path d=\"M 50.984375 -16.609375 \r\nL 50.984375 -23.578125 \r\nL -0.984375 -23.578125 \r\nL -0.984375 -16.609375 \r\nz\r\n\" id=\"DejaVuSans-95\"/>\r\n      <path d=\"M 52 44.1875 \r\nQ 55.375 50.25 60.0625 53.125 \r\nQ 64.75 56 71.09375 56 \r\nQ 79.640625 56 84.28125 50.015625 \r\nQ 88.921875 44.046875 88.921875 33.015625 \r\nL 88.921875 0 \r\nL 79.890625 0 \r\nL 79.890625 32.71875 \r\nQ 79.890625 40.578125 77.09375 44.375 \r\nQ 74.3125 48.1875 68.609375 48.1875 \r\nQ 61.625 48.1875 57.5625 43.546875 \r\nQ 53.515625 38.921875 53.515625 30.90625 \r\nL 53.515625 0 \r\nL 44.484375 0 \r\nL 44.484375 32.71875 \r\nQ 44.484375 40.625 41.703125 44.40625 \r\nQ 38.921875 48.1875 33.109375 48.1875 \r\nQ 26.21875 48.1875 22.15625 43.53125 \r\nQ 18.109375 38.875 18.109375 30.90625 \r\nL 18.109375 0 \r\nL 9.078125 0 \r\nL 9.078125 54.6875 \r\nL 18.109375 54.6875 \r\nL 18.109375 46.1875 \r\nQ 21.1875 51.21875 25.484375 53.609375 \r\nQ 29.78125 56 35.6875 56 \r\nQ 41.65625 56 45.828125 52.96875 \r\nQ 50 49.953125 52 44.1875 \r\nz\r\n\" id=\"DejaVuSans-109\"/>\r\n      <path d=\"M 54.890625 33.015625 \r\nL 54.890625 0 \r\nL 45.90625 0 \r\nL 45.90625 32.71875 \r\nQ 45.90625 40.484375 42.875 44.328125 \r\nQ 39.84375 48.1875 33.796875 48.1875 \r\nQ 26.515625 48.1875 22.3125 43.546875 \r\nQ 18.109375 38.921875 18.109375 30.90625 \r\nL 18.109375 0 \r\nL 9.078125 0 \r\nL 9.078125 54.6875 \r\nL 18.109375 54.6875 \r\nL 18.109375 46.1875 \r\nQ 21.34375 51.125 25.703125 53.5625 \r\nQ 30.078125 56 35.796875 56 \r\nQ 45.21875 56 50.046875 50.171875 \r\nQ 54.890625 44.34375 54.890625 33.015625 \r\nz\r\n\" id=\"DejaVuSans-110\"/>\r\n      <path d=\"M 18.3125 70.21875 \r\nL 18.3125 54.6875 \r\nL 36.8125 54.6875 \r\nL 36.8125 47.703125 \r\nL 18.3125 47.703125 \r\nL 18.3125 18.015625 \r\nQ 18.3125 11.328125 20.140625 9.421875 \r\nQ 21.96875 7.515625 27.59375 7.515625 \r\nL 36.8125 7.515625 \r\nL 36.8125 0 \r\nL 27.59375 0 \r\nQ 17.1875 0 13.234375 3.875 \r\nQ 9.28125 7.765625 9.28125 18.015625 \r\nL 9.28125 47.703125 \r\nL 2.6875 47.703125 \r\nL 2.6875 54.6875 \r\nL 9.28125 54.6875 \r\nL 9.28125 70.21875 \r\nz\r\n\" id=\"DejaVuSans-116\"/>\r\n      <path d=\"M 54.890625 33.015625 \r\nL 54.890625 0 \r\nL 45.90625 0 \r\nL 45.90625 32.71875 \r\nQ 45.90625 40.484375 42.875 44.328125 \r\nQ 39.84375 48.1875 33.796875 48.1875 \r\nQ 26.515625 48.1875 22.3125 43.546875 \r\nQ 18.109375 38.921875 18.109375 30.90625 \r\nL 18.109375 0 \r\nL 9.078125 0 \r\nL 9.078125 75.984375 \r\nL 18.109375 75.984375 \r\nL 18.109375 46.1875 \r\nQ 21.34375 51.125 25.703125 53.5625 \r\nQ 30.078125 56 35.796875 56 \r\nQ 45.21875 56 50.046875 50.171875 \r\nQ 54.890625 44.34375 54.890625 33.015625 \r\nz\r\n\" id=\"DejaVuSans-104\"/>\r\n     </defs>\r\n     <g transform=\"translate(175.855469 252.916562)scale(0.1 -0.1)\">\r\n      <use xlink:href=\"#DejaVuSans-111\"/>\r\n      <use x=\"61.181641\" xlink:href=\"#DejaVuSans-114\"/>\r\n      <use x=\"102.279297\" xlink:href=\"#DejaVuSans-100\"/>\r\n      <use x=\"165.755859\" xlink:href=\"#DejaVuSans-101\"/>\r\n      <use x=\"227.279297\" xlink:href=\"#DejaVuSans-114\"/>\r\n      <use x=\"268.392578\" xlink:href=\"#DejaVuSans-95\"/>\r\n      <use x=\"318.392578\" xlink:href=\"#DejaVuSans-109\"/>\r\n      <use x=\"415.804688\" xlink:href=\"#DejaVuSans-111\"/>\r\n      <use x=\"476.986328\" xlink:href=\"#DejaVuSans-110\"/>\r\n      <use x=\"540.365234\" xlink:href=\"#DejaVuSans-116\"/>\r\n      <use x=\"579.574219\" xlink:href=\"#DejaVuSans-104\"/>\r\n     </g>\r\n    </g>\r\n   </g>\r\n   <g id=\"matplotlib.axis_2\">\r\n    <g id=\"ytick_1\">\r\n     <g id=\"line2d_13\">\r\n      <defs>\r\n       <path d=\"M 0 0 \r\nL -3.5 0 \r\n\" id=\"m41ccaabdbe\" style=\"stroke:#000000;stroke-width:0.8;\"/>\r\n      </defs>\r\n      <g>\r\n       <use style=\"stroke:#000000;stroke-width:0.8;\" x=\"40.603125\" xlink:href=\"#m41ccaabdbe\" y=\"199.550769\"/>\r\n      </g>\r\n     </g>\r\n     <g id=\"text_14\">\r\n      <!-- 2 -->\r\n      <g transform=\"translate(27.240625 203.349988)scale(0.1 -0.1)\">\r\n       <use xlink:href=\"#DejaVuSans-50\"/>\r\n      </g>\r\n     </g>\r\n    </g>\r\n    <g id=\"ytick_2\">\r\n     <g id=\"line2d_14\">\r\n      <g>\r\n       <use style=\"stroke:#000000;stroke-width:0.8;\" x=\"40.603125\" xlink:href=\"#m41ccaabdbe\" y=\"169.13958\"/>\r\n      </g>\r\n     </g>\r\n     <g id=\"text_15\">\r\n      <!-- 4 -->\r\n      <g transform=\"translate(27.240625 172.938799)scale(0.1 -0.1)\">\r\n       <use xlink:href=\"#DejaVuSans-52\"/>\r\n      </g>\r\n     </g>\r\n    </g>\r\n    <g id=\"ytick_3\">\r\n     <g id=\"line2d_15\">\r\n      <g>\r\n       <use style=\"stroke:#000000;stroke-width:0.8;\" x=\"40.603125\" xlink:href=\"#m41ccaabdbe\" y=\"138.728392\"/>\r\n      </g>\r\n     </g>\r\n     <g id=\"text_16\">\r\n      <!-- 6 -->\r\n      <g transform=\"translate(27.240625 142.52761)scale(0.1 -0.1)\">\r\n       <use xlink:href=\"#DejaVuSans-54\"/>\r\n      </g>\r\n     </g>\r\n    </g>\r\n    <g id=\"ytick_4\">\r\n     <g id=\"line2d_16\">\r\n      <g>\r\n       <use style=\"stroke:#000000;stroke-width:0.8;\" x=\"40.603125\" xlink:href=\"#m41ccaabdbe\" y=\"108.317203\"/>\r\n      </g>\r\n     </g>\r\n     <g id=\"text_17\">\r\n      <!-- 8 -->\r\n      <g transform=\"translate(27.240625 112.116422)scale(0.1 -0.1)\">\r\n       <use xlink:href=\"#DejaVuSans-56\"/>\r\n      </g>\r\n     </g>\r\n    </g>\r\n    <g id=\"ytick_5\">\r\n     <g id=\"line2d_17\">\r\n      <g>\r\n       <use style=\"stroke:#000000;stroke-width:0.8;\" x=\"40.603125\" xlink:href=\"#m41ccaabdbe\" y=\"77.906014\"/>\r\n      </g>\r\n     </g>\r\n     <g id=\"text_18\">\r\n      <!-- 10 -->\r\n      <g transform=\"translate(20.878125 81.705233)scale(0.1 -0.1)\">\r\n       <use xlink:href=\"#DejaVuSans-49\"/>\r\n       <use x=\"63.623047\" xlink:href=\"#DejaVuSans-48\"/>\r\n      </g>\r\n     </g>\r\n    </g>\r\n    <g id=\"ytick_6\">\r\n     <g id=\"line2d_18\">\r\n      <g>\r\n       <use style=\"stroke:#000000;stroke-width:0.8;\" x=\"40.603125\" xlink:href=\"#m41ccaabdbe\" y=\"47.494825\"/>\r\n      </g>\r\n     </g>\r\n     <g id=\"text_19\">\r\n      <!-- 12 -->\r\n      <g transform=\"translate(20.878125 51.294044)scale(0.1 -0.1)\">\r\n       <use xlink:href=\"#DejaVuSans-49\"/>\r\n       <use x=\"63.623047\" xlink:href=\"#DejaVuSans-50\"/>\r\n      </g>\r\n     </g>\r\n    </g>\r\n    <g id=\"ytick_7\">\r\n     <g id=\"line2d_19\">\r\n      <g>\r\n       <use style=\"stroke:#000000;stroke-width:0.8;\" x=\"40.603125\" xlink:href=\"#m41ccaabdbe\" y=\"17.083636\"/>\r\n      </g>\r\n     </g>\r\n     <g id=\"text_20\">\r\n      <!-- 14 -->\r\n      <g transform=\"translate(20.878125 20.882855)scale(0.1 -0.1)\">\r\n       <use xlink:href=\"#DejaVuSans-49\"/>\r\n       <use x=\"63.623047\" xlink:href=\"#DejaVuSans-52\"/>\r\n      </g>\r\n     </g>\r\n    </g>\r\n    <g id=\"text_21\">\r\n     <!-- Quantity -->\r\n     <defs>\r\n      <path d=\"M 39.40625 66.21875 \r\nQ 28.65625 66.21875 22.328125 58.203125 \r\nQ 16.015625 50.203125 16.015625 36.375 \r\nQ 16.015625 22.609375 22.328125 14.59375 \r\nQ 28.65625 6.59375 39.40625 6.59375 \r\nQ 50.140625 6.59375 56.421875 14.59375 \r\nQ 62.703125 22.609375 62.703125 36.375 \r\nQ 62.703125 50.203125 56.421875 58.203125 \r\nQ 50.140625 66.21875 39.40625 66.21875 \r\nz\r\nM 53.21875 1.3125 \r\nL 66.21875 -12.890625 \r\nL 54.296875 -12.890625 \r\nL 43.5 -1.21875 \r\nQ 41.890625 -1.3125 41.03125 -1.359375 \r\nQ 40.1875 -1.421875 39.40625 -1.421875 \r\nQ 24.03125 -1.421875 14.8125 8.859375 \r\nQ 5.609375 19.140625 5.609375 36.375 \r\nQ 5.609375 53.65625 14.8125 63.9375 \r\nQ 24.03125 74.21875 39.40625 74.21875 \r\nQ 54.734375 74.21875 63.90625 63.9375 \r\nQ 73.09375 53.65625 73.09375 36.375 \r\nQ 73.09375 23.6875 67.984375 14.640625 \r\nQ 62.890625 5.609375 53.21875 1.3125 \r\nz\r\n\" id=\"DejaVuSans-81\"/>\r\n      <path d=\"M 8.5 21.578125 \r\nL 8.5 54.6875 \r\nL 17.484375 54.6875 \r\nL 17.484375 21.921875 \r\nQ 17.484375 14.15625 20.5 10.265625 \r\nQ 23.53125 6.390625 29.59375 6.390625 \r\nQ 36.859375 6.390625 41.078125 11.03125 \r\nQ 45.3125 15.671875 45.3125 23.6875 \r\nL 45.3125 54.6875 \r\nL 54.296875 54.6875 \r\nL 54.296875 0 \r\nL 45.3125 0 \r\nL 45.3125 8.40625 \r\nQ 42.046875 3.421875 37.71875 1 \r\nQ 33.40625 -1.421875 27.6875 -1.421875 \r\nQ 18.265625 -1.421875 13.375 4.4375 \r\nQ 8.5 10.296875 8.5 21.578125 \r\nz\r\nM 31.109375 56 \r\nz\r\n\" id=\"DejaVuSans-117\"/>\r\n      <path d=\"M 34.28125 27.484375 \r\nQ 23.390625 27.484375 19.1875 25 \r\nQ 14.984375 22.515625 14.984375 16.5 \r\nQ 14.984375 11.71875 18.140625 8.90625 \r\nQ 21.296875 6.109375 26.703125 6.109375 \r\nQ 34.1875 6.109375 38.703125 11.40625 \r\nQ 43.21875 16.703125 43.21875 25.484375 \r\nL 43.21875 27.484375 \r\nz\r\nM 52.203125 31.203125 \r\nL 52.203125 0 \r\nL 43.21875 0 \r\nL 43.21875 8.296875 \r\nQ 40.140625 3.328125 35.546875 0.953125 \r\nQ 30.953125 -1.421875 24.3125 -1.421875 \r\nQ 15.921875 -1.421875 10.953125 3.296875 \r\nQ 6 8.015625 6 15.921875 \r\nQ 6 25.140625 12.171875 29.828125 \r\nQ 18.359375 34.515625 30.609375 34.515625 \r\nL 43.21875 34.515625 \r\nL 43.21875 35.40625 \r\nQ 43.21875 41.609375 39.140625 45 \r\nQ 35.0625 48.390625 27.6875 48.390625 \r\nQ 23 48.390625 18.546875 47.265625 \r\nQ 14.109375 46.140625 10.015625 43.890625 \r\nL 10.015625 52.203125 \r\nQ 14.9375 54.109375 19.578125 55.046875 \r\nQ 24.21875 56 28.609375 56 \r\nQ 40.484375 56 46.34375 49.84375 \r\nQ 52.203125 43.703125 52.203125 31.203125 \r\nz\r\n\" id=\"DejaVuSans-97\"/>\r\n      <path d=\"M 9.421875 54.6875 \r\nL 18.40625 54.6875 \r\nL 18.40625 0 \r\nL 9.421875 0 \r\nz\r\nM 9.421875 75.984375 \r\nL 18.40625 75.984375 \r\nL 18.40625 64.59375 \r\nL 9.421875 64.59375 \r\nz\r\n\" id=\"DejaVuSans-105\"/>\r\n      <path d=\"M 32.171875 -5.078125 \r\nQ 28.375 -14.84375 24.75 -17.8125 \r\nQ 21.140625 -20.796875 15.09375 -20.796875 \r\nL 7.90625 -20.796875 \r\nL 7.90625 -13.28125 \r\nL 13.1875 -13.28125 \r\nQ 16.890625 -13.28125 18.9375 -11.515625 \r\nQ 21 -9.765625 23.484375 -3.21875 \r\nL 25.09375 0.875 \r\nL 2.984375 54.6875 \r\nL 12.5 54.6875 \r\nL 29.59375 11.921875 \r\nL 46.6875 54.6875 \r\nL 56.203125 54.6875 \r\nz\r\n\" id=\"DejaVuSans-121\"/>\r\n     </defs>\r\n     <g transform=\"translate(14.798438 137.52625)rotate(-90)scale(0.1 -0.1)\">\r\n      <use xlink:href=\"#DejaVuSans-81\"/>\r\n      <use x=\"78.710938\" xlink:href=\"#DejaVuSans-117\"/>\r\n      <use x=\"142.089844\" xlink:href=\"#DejaVuSans-97\"/>\r\n      <use x=\"203.369141\" xlink:href=\"#DejaVuSans-110\"/>\r\n      <use x=\"266.748047\" xlink:href=\"#DejaVuSans-116\"/>\r\n      <use x=\"305.957031\" xlink:href=\"#DejaVuSans-105\"/>\r\n      <use x=\"333.740234\" xlink:href=\"#DejaVuSans-116\"/>\r\n      <use x=\"372.949219\" xlink:href=\"#DejaVuSans-121\"/>\r\n     </g>\r\n    </g>\r\n   </g>\r\n   <g id=\"line2d_20\">\r\n    <path clip-path=\"url(#pe50dcb4330)\" d=\"M 43.393125 184.345175 \r\nL 65.713125 184.345175 \r\n\" style=\"fill:none;stroke:#262626;stroke-linecap:square;stroke-opacity:0.45;stroke-width:1.5;\"/>\r\n   </g>\r\n   <g id=\"line2d_21\">\r\n    <path clip-path=\"url(#pe50dcb4330)\" d=\"M 71.293125 184.345175 \r\nL 93.613125 184.345175 \r\n\" style=\"fill:none;stroke:#262626;stroke-linecap:square;stroke-opacity:0.45;stroke-width:1.5;\"/>\r\n   </g>\r\n   <g id=\"line2d_22\">\r\n    <path clip-path=\"url(#pe50dcb4330)\" d=\"M 99.193125 184.345175 \r\nL 121.513125 184.345175 \r\n\" style=\"fill:none;stroke:#262626;stroke-linecap:square;stroke-opacity:0.45;stroke-width:1.5;\"/>\r\n   </g>\r\n   <g id=\"line2d_23\">\r\n    <path clip-path=\"url(#pe50dcb4330)\" d=\"M 127.093125 184.345175 \r\nL 149.413125 184.345175 \r\n\" style=\"fill:none;stroke:#262626;stroke-linecap:square;stroke-opacity:0.45;stroke-width:1.5;\"/>\r\n   </g>\r\n   <g id=\"line2d_24\">\r\n    <path clip-path=\"url(#pe50dcb4330)\" d=\"M 154.993125 184.345175 \r\nL 177.313125 184.345175 \r\n\" style=\"fill:none;stroke:#262626;stroke-linecap:square;stroke-opacity:0.45;stroke-width:1.5;\"/>\r\n   </g>\r\n   <g id=\"line2d_25\">\r\n    <path clip-path=\"url(#pe50dcb4330)\" d=\"M 182.893125 184.345175 \r\nL 205.213125 184.345175 \r\n\" style=\"fill:none;stroke:#262626;stroke-linecap:square;stroke-opacity:0.45;stroke-width:1.5;\"/>\r\n   </g>\r\n   <g id=\"line2d_26\">\r\n    <path clip-path=\"url(#pe50dcb4330)\" d=\"M 210.793125 184.345175 \r\nL 233.113125 184.345175 \r\n\" style=\"fill:none;stroke:#262626;stroke-linecap:square;stroke-opacity:0.45;stroke-width:1.5;\"/>\r\n   </g>\r\n   <g id=\"line2d_27\">\r\n    <path clip-path=\"url(#pe50dcb4330)\" d=\"M 238.693125 184.345175 \r\nL 261.013125 184.345175 \r\n\" style=\"fill:none;stroke:#262626;stroke-linecap:square;stroke-opacity:0.45;stroke-width:1.5;\"/>\r\n   </g>\r\n   <g id=\"line2d_28\">\r\n    <path clip-path=\"url(#pe50dcb4330)\" d=\"M 266.593125 184.345175 \r\nL 288.913125 184.345175 \r\n\" style=\"fill:none;stroke:#262626;stroke-linecap:square;stroke-opacity:0.45;stroke-width:1.5;\"/>\r\n   </g>\r\n   <g id=\"line2d_29\">\r\n    <path clip-path=\"url(#pe50dcb4330)\" d=\"M 294.493125 184.345175 \r\nL 316.813125 184.345175 \r\n\" style=\"fill:none;stroke:#262626;stroke-linecap:square;stroke-opacity:0.45;stroke-width:1.5;\"/>\r\n   </g>\r\n   <g id=\"line2d_30\">\r\n    <path clip-path=\"url(#pe50dcb4330)\" d=\"M 322.393125 184.345175 \r\nL 344.713125 184.345175 \r\n\" style=\"fill:none;stroke:#262626;stroke-linecap:square;stroke-opacity:0.45;stroke-width:1.5;\"/>\r\n   </g>\r\n   <g id=\"line2d_31\">\r\n    <path clip-path=\"url(#pe50dcb4330)\" d=\"M 350.293125 184.345175 \r\nL 372.613125 184.345175 \r\n\" style=\"fill:none;stroke:#262626;stroke-linecap:square;stroke-opacity:0.45;stroke-width:1.5;\"/>\r\n   </g>\r\n   <g id=\"patch_3\">\r\n    <path d=\"M 40.603125 224.64 \r\nL 40.603125 7.2 \r\n\" style=\"fill:none;stroke:#000000;stroke-linecap:square;stroke-linejoin:miter;stroke-width:0.8;\"/>\r\n   </g>\r\n   <g id=\"patch_4\">\r\n    <path d=\"M 375.403125 224.64 \r\nL 375.403125 7.2 \r\n\" style=\"fill:none;stroke:#000000;stroke-linecap:square;stroke-linejoin:miter;stroke-width:0.8;\"/>\r\n   </g>\r\n   <g id=\"patch_5\">\r\n    <path d=\"M 40.603125 224.64 \r\nL 375.403125 224.64 \r\n\" style=\"fill:none;stroke:#000000;stroke-linecap:square;stroke-linejoin:miter;stroke-width:0.8;\"/>\r\n   </g>\r\n   <g id=\"patch_6\">\r\n    <path d=\"M 40.603125 7.2 \r\nL 375.403125 7.2 \r\n\" style=\"fill:none;stroke:#000000;stroke-linecap:square;stroke-linejoin:miter;stroke-width:0.8;\"/>\r\n   </g>\r\n  </g>\r\n </g>\r\n <defs>\r\n  <clipPath id=\"pe50dcb4330\">\r\n   <rect height=\"217.44\" width=\"334.8\" x=\"40.603125\" y=\"7.2\"/>\r\n  </clipPath>\r\n </defs>\r\n</svg>\r\n",
      "text/plain": "<Figure size 432x288 with 1 Axes>"
     },
     "metadata": {
      "needs_background": "light"
     },
     "output_type": "display_data"
    }
   ],
   "source": [
    "sns.boxenplot(x=\"order_month\", y=\"Quantity\", data=df)"
   ]
  },
  {
   "cell_type": "code",
   "execution_count": 45,
   "metadata": {},
   "outputs": [],
   "source": [
    "# Problem 3\n",
    "returns_df = pd.read_csv(\"./data/Returns.csv\")\n"
   ]
  },
  {
   "cell_type": "code",
   "execution_count": 46,
   "metadata": {},
   "outputs": [
    {
     "data": {
      "text/html": "<div>\n<style scoped>\n    .dataframe tbody tr th:only-of-type {\n        vertical-align: middle;\n    }\n\n    .dataframe tbody tr th {\n        vertical-align: top;\n    }\n\n    .dataframe thead th {\n        text-align: right;\n    }\n</style>\n<table border=\"1\" class=\"dataframe\">\n  <thead>\n    <tr style=\"text-align: right;\">\n      <th></th>\n      <th>Returned</th>\n      <th>Order ID</th>\n      <th>Region</th>\n    </tr>\n  </thead>\n  <tbody>\n    <tr>\n      <th>count</th>\n      <td>1079</td>\n      <td>1079</td>\n      <td>1079</td>\n    </tr>\n    <tr>\n      <th>unique</th>\n      <td>1</td>\n      <td>1079</td>\n      <td>24</td>\n    </tr>\n    <tr>\n      <th>top</th>\n      <td>Yes</td>\n      <td>MX-2012-ND1837082-41223</td>\n      <td>Western Europe</td>\n    </tr>\n    <tr>\n      <th>freq</th>\n      <td>1079</td>\n      <td>1</td>\n      <td>121</td>\n    </tr>\n  </tbody>\n</table>\n</div>",
      "text/plain": "       Returned                 Order ID          Region\ncount      1079                     1079            1079\nunique        1                     1079              24\ntop         Yes  MX-2012-ND1837082-41223  Western Europe\nfreq       1079                        1             121"
     },
     "execution_count": 46,
     "metadata": {},
     "output_type": "execute_result"
    }
   ],
   "source": [
    "returns_df.describe()"
   ]
  },
  {
   "cell_type": "code",
   "execution_count": 47,
   "metadata": {},
   "outputs": [
    {
     "data": {
      "text/plain": "Returned    object\nOrder ID    object\nRegion      object\ndtype: object"
     },
     "execution_count": 47,
     "metadata": {},
     "output_type": "execute_result"
    }
   ],
   "source": [
    "returns_df.dtypes"
   ]
  },
  {
   "cell_type": "code",
   "execution_count": 48,
   "metadata": {},
   "outputs": [
    {
     "data": {
      "text/html": "<div>\n<style scoped>\n    .dataframe tbody tr th:only-of-type {\n        vertical-align: middle;\n    }\n\n    .dataframe tbody tr th {\n        vertical-align: top;\n    }\n\n    .dataframe thead th {\n        text-align: right;\n    }\n</style>\n<table border=\"1\" class=\"dataframe\">\n  <thead>\n    <tr style=\"text-align: right;\">\n      <th></th>\n      <th>Returned</th>\n      <th>Order ID</th>\n      <th>Region</th>\n    </tr>\n  </thead>\n  <tbody>\n    <tr>\n      <th>746</th>\n      <td>Yes</td>\n      <td>IT-2012-BD1172591-40992</td>\n      <td>Western Europe</td>\n    </tr>\n    <tr>\n      <th>123</th>\n      <td>Yes</td>\n      <td>ES-2012-ER13855120-41159</td>\n      <td>Southern Europe</td>\n    </tr>\n    <tr>\n      <th>1047</th>\n      <td>Yes</td>\n      <td>CA-2015-BD11725140-42276</td>\n      <td>Western US</td>\n    </tr>\n    <tr>\n      <th>188</th>\n      <td>Yes</td>\n      <td>CA-2015-DO13645140-42263</td>\n      <td>Western US</td>\n    </tr>\n    <tr>\n      <th>194</th>\n      <td>Yes</td>\n      <td>MX-2013-EC1405018-41599</td>\n      <td>South America</td>\n    </tr>\n  </tbody>\n</table>\n</div>",
      "text/plain": "     Returned                  Order ID           Region\n746       Yes   IT-2012-BD1172591-40992   Western Europe\n123       Yes  ES-2012-ER13855120-41159  Southern Europe\n1047      Yes  CA-2015-BD11725140-42276       Western US\n188       Yes  CA-2015-DO13645140-42263       Western US\n194       Yes   MX-2013-EC1405018-41599    South America"
     },
     "execution_count": 48,
     "metadata": {},
     "output_type": "execute_result"
    }
   ],
   "source": [
    "returns_df.sample(5)"
   ]
  },
  {
   "cell_type": "code",
   "execution_count": 49,
   "metadata": {},
   "outputs": [],
   "source": [
    "combined_df = df.merge(right=returns_df, how=\"left\", left_on=\"Order.ID\", right_on=\"Order ID\")\n",
    "\n"
   ]
  },
  {
   "cell_type": "code",
   "execution_count": 50,
   "metadata": {},
   "outputs": [
    {
     "data": {
      "text/plain": "Yes    2220\nName: Returned, dtype: int64"
     },
     "execution_count": 50,
     "metadata": {},
     "output_type": "execute_result"
    }
   ],
   "source": [
    "combined_df[\"Returned\"].value_counts()"
   ]
  },
  {
   "cell_type": "code",
   "execution_count": 51,
   "metadata": {},
   "outputs": [
    {
     "data": {
      "text/plain": "(1079, 3)"
     },
     "execution_count": 51,
     "metadata": {},
     "output_type": "execute_result"
    }
   ],
   "source": [
    "returns_df.shape"
   ]
  },
  {
   "cell_type": "code",
   "execution_count": 52,
   "metadata": {},
   "outputs": [],
   "source": [
    "combined_df[\"Returned\"] = combined_df[\"Returned\"].fillna(\"No\")\n"
   ]
  },
  {
   "cell_type": "code",
   "execution_count": 53,
   "metadata": {},
   "outputs": [
    {
     "data": {
      "text/plain": "No     49070\nYes     2220\nName: Returned, dtype: int64"
     },
     "execution_count": 53,
     "metadata": {},
     "output_type": "execute_result"
    }
   ],
   "source": [
    "combined_df[\"Returned\"].value_counts()"
   ]
  },
  {
   "cell_type": "code",
   "execution_count": 54,
   "metadata": {},
   "outputs": [
    {
     "data": {
      "text/html": "<div>\n<style scoped>\n    .dataframe tbody tr th:only-of-type {\n        vertical-align: middle;\n    }\n\n    .dataframe tbody tr th {\n        vertical-align: top;\n    }\n\n    .dataframe thead th {\n        text-align: right;\n    }\n</style>\n<table border=\"1\" class=\"dataframe\">\n  <thead>\n    <tr style=\"text-align: right;\">\n      <th></th>\n      <th></th>\n      <th>Profit</th>\n    </tr>\n    <tr>\n      <th>order_year</th>\n      <th>Returned</th>\n      <th></th>\n    </tr>\n  </thead>\n  <tbody>\n    <tr>\n      <th>2012</th>\n      <th>Yes</th>\n      <td>17477.26</td>\n    </tr>\n    <tr>\n      <th>2013</th>\n      <th>Yes</th>\n      <td>9269.89</td>\n    </tr>\n    <tr>\n      <th>2014</th>\n      <th>Yes</th>\n      <td>17510.63</td>\n    </tr>\n    <tr>\n      <th>2015</th>\n      <th>Yes</th>\n      <td>17112.97</td>\n    </tr>\n  </tbody>\n</table>\n</div>",
      "text/plain": "                       Profit\norder_year Returned          \n2012       Yes       17477.26\n2013       Yes        9269.89\n2014       Yes       17510.63\n2015       Yes       17112.97"
     },
     "execution_count": 54,
     "metadata": {},
     "output_type": "execute_result"
    }
   ],
   "source": [
    "# Problem 4_1\n",
    "# Profit Lost by Order Year\n",
    "returns_mask = combined_df[\"Returned\"] == \"Yes\"\n",
    "combined_df.loc[returns_mask, ].groupby([\"order_year\", \"Returned\"]).agg({\"Profit\": sum})\n"
   ]
  },
  {
   "cell_type": "code",
   "execution_count": 55,
   "metadata": {},
   "outputs": [
    {
     "data": {
      "text/html": "<div>\n<style scoped>\n    .dataframe tbody tr th:only-of-type {\n        vertical-align: middle;\n    }\n\n    .dataframe tbody tr th {\n        vertical-align: top;\n    }\n\n    .dataframe thead th {\n        text-align: right;\n    }\n</style>\n<table border=\"1\" class=\"dataframe\">\n  <thead>\n    <tr style=\"text-align: right;\">\n      <th></th>\n      <th>Order.ID</th>\n    </tr>\n    <tr>\n      <th>Customer.Name</th>\n      <th></th>\n    </tr>\n  </thead>\n  <tbody>\n    <tr>\n      <th>Aaron Bergman</th>\n      <td>2</td>\n    </tr>\n    <tr>\n      <th>Aaron Hawkins</th>\n      <td>2</td>\n    </tr>\n    <tr>\n      <th>Aaron Smayling</th>\n      <td>2</td>\n    </tr>\n    <tr>\n      <th>Adam Shillingsburg</th>\n      <td>3</td>\n    </tr>\n    <tr>\n      <th>Adrian Barton</th>\n      <td>3</td>\n    </tr>\n    <tr>\n      <th>...</th>\n      <td>...</td>\n    </tr>\n    <tr>\n      <th>Vivian Mathis</th>\n      <td>5</td>\n    </tr>\n    <tr>\n      <th>William Brown</th>\n      <td>5</td>\n    </tr>\n    <tr>\n      <th>Yana Sorensen</th>\n      <td>1</td>\n    </tr>\n    <tr>\n      <th>Zuschuss Carroll</th>\n      <td>1</td>\n    </tr>\n    <tr>\n      <th>Zuschuss Donatelli</th>\n      <td>1</td>\n    </tr>\n  </tbody>\n</table>\n<p>593 rows × 1 columns</p>\n</div>",
      "text/plain": "                    Order.ID\nCustomer.Name               \nAaron Bergman              2\nAaron Hawkins              2\nAaron Smayling             2\nAdam Shillingsburg         3\nAdrian Barton              3\n...                      ...\nVivian Mathis              5\nWilliam Brown              5\nYana Sorensen              1\nZuschuss Carroll           1\nZuschuss Donatelli         1\n\n[593 rows x 1 columns]"
     },
     "execution_count": 55,
     "metadata": {},
     "output_type": "execute_result"
    }
   ],
   "source": [
    "# Problem 4_2\n",
    "combined_df.loc[returns_mask, ].groupby([\"Customer.Name\"]).agg({\"Order.ID\": \"count\"})\n",
    "# appears to be multiple customer IDs for the same customer name (not sure if that's for each order\n",
    "# or it's truly a different customer -> assuming the former (\n"
   ]
  },
  {
   "cell_type": "code",
   "execution_count": 56,
   "metadata": {},
   "outputs": [
    {
     "data": {
      "text/plain": "array(['Phillip Breyer', 'Nathan Mautz', \"Russell D'Ascenzo\",\n       'Elizabeth Moffitt', 'John Castell', 'Brenda Bowman', 'Scot Coram',\n       'Rob Dowd', 'Jocasta Rupert', 'Daniel Lacy', 'Shui Tom',\n       'Magdelene Morse', 'Darrin Martin', 'Bill Shonely', 'Luke Weiss',\n       'Kelly Andreada', 'Christine Sundaresam', 'Paul Knutson',\n       'Bill Tyler', 'Cari Schnelling', 'Ann Blume', 'Anna Andreadi',\n       'Juliana Krohn', 'Erin Smith', \"Doug O'Connell\",\n       'Sean Christensen', 'Greg Tran', 'Stuart Calhoun',\n       'Andrew Gjertsen', 'Lena Radford', 'Penelope Sewall',\n       'Tom Boeckenhauer', 'Mathew Reese', 'Gary Mitchum', 'Ben Ferrer',\n       'Brian Moss', 'Jeremy Pistek', 'Anna Gayman', 'Alyssa Tate',\n       'Trudy Brown', 'Chuck Magee', 'Carl Weiss', 'Don Jones',\n       'Michelle Arnett', 'Kristen Hastings', 'Annie Thurman',\n       \"Patrick O'Brill\", 'Eugene Barchas', 'Julia Dunbar',\n       'Astrea Jones', 'Darrin Van Huff', 'Emily Phan', 'Bart Pistole',\n       'Dean Braden', 'Karl Braun', 'Anne McFarland', 'Shahid Collister',\n       'Harry Marie', 'Neil Knudson', 'Sanjit Jacobs', 'David Philippe',\n       'Alejandro Savely', 'Maureen Fritzler', 'Patrick Ryan',\n       'Dana Kaydos', 'Alan Barnes', 'Joseph Holt', 'Natalie DeCherney',\n       'Brian DeCherney', 'Tony Sayre', 'Julie Creighton',\n       'Shahid Hopkins', 'Scott Cohen', 'Jim Epp', 'Suzanne McNair',\n       'Harold Dahlen', 'Michael Granlund', 'Anthony Witt',\n       'Christina Anderson', 'Dorothy Wardle', 'Deirdre Greer',\n       'Scott Williamson', 'Carol Darley', 'Bobby Elias',\n       'Rick Huthwaite', 'Clay Ludtke', 'Mark Hamilton', 'Keith Dawkins',\n       'Darren Koutras', 'Mick Brown', 'Jill Fjeld', 'Becky Martin',\n       'Ken Brennan', 'Muhammed Yedwab', 'Max Ludwig', 'Sara Luxemburg',\n       'Joel Eaton', 'Sanjit Chand', 'Mike Gockenbach', 'Dave Hallsten',\n       'Lindsay Shagiari', 'Mick Hernandez', 'Theresa Swint',\n       'Sonia Sunley', 'Theresa Coyne', 'Eugene Hildebrand', 'Cari Sayre',\n       'Dorothy Badders', 'Toby Braunhardt', 'Edward Hooks',\n       'Brendan Sweed', 'Sung Pak', 'Lena Cacioppo', 'Grace Kelly',\n       'Liz Thompson', 'James Galang', 'Sandra Glassco', 'Dean percer',\n       'Skye Norling', 'Keith Herrera', 'Rachel Payne', 'Mark Van Huff',\n       'Neola Schneider', 'Nick Crebassa'], dtype=object)"
     },
     "execution_count": 56,
     "metadata": {},
     "output_type": "execute_result"
    }
   ],
   "source": [
    "grouped = combined_df.loc[returns_mask, ].groupby([\"Customer.Name\"])\n",
    "grouped.filter(lambda x: x[\"Customer.Name\"].count() > 5)[\"Customer.Name\"].unique()"
   ]
  },
  {
   "cell_type": "code",
   "execution_count": 57,
   "metadata": {},
   "outputs": [
    {
     "ename": "KeyError",
     "evalue": "'Region'",
     "output_type": "error",
     "traceback": [
      "\u001b[1;31m---------------------------------------------------------------------------\u001b[0m",
      "\u001b[1;31mKeyError\u001b[0m                                  Traceback (most recent call last)",
      "\u001b[1;32m<ipython-input-57-761c95ed132d>\u001b[0m in \u001b[0;36m<module>\u001b[1;34m\u001b[0m\n\u001b[1;32m----> 1\u001b[1;33m \u001b[0mcombined_df\u001b[0m\u001b[1;33m.\u001b[0m\u001b[0mloc\u001b[0m\u001b[1;33m[\u001b[0m\u001b[0mreturns_mask\u001b[0m\u001b[1;33m,\u001b[0m \u001b[1;33m]\u001b[0m\u001b[1;33m.\u001b[0m\u001b[0mgroupby\u001b[0m\u001b[1;33m(\u001b[0m\u001b[1;33m[\u001b[0m\u001b[1;34m\"Region\"\u001b[0m\u001b[1;33m]\u001b[0m\u001b[1;33m)\u001b[0m\u001b[1;33m[\u001b[0m\u001b[1;34m\"Order.ID\"\u001b[0m\u001b[1;33m]\u001b[0m\u001b[1;33m.\u001b[0m\u001b[0mnunique\u001b[0m\u001b[1;33m(\u001b[0m\u001b[1;33m)\u001b[0m\u001b[1;33m\u001b[0m\u001b[1;33m\u001b[0m\u001b[0m\n\u001b[0m\u001b[0;32m      2\u001b[0m \u001b[1;33m\u001b[0m\u001b[0m\n",
      "\u001b[1;32m~\\Anaconda3\\envs\\ml_work_area\\lib\\site-packages\\pandas\\core\\frame.py\u001b[0m in \u001b[0;36mgroupby\u001b[1;34m(self, by, axis, level, as_index, sort, group_keys, squeeze, observed)\u001b[0m\n\u001b[0;32m   5808\u001b[0m             \u001b[0mgroup_keys\u001b[0m\u001b[1;33m=\u001b[0m\u001b[0mgroup_keys\u001b[0m\u001b[1;33m,\u001b[0m\u001b[1;33m\u001b[0m\u001b[1;33m\u001b[0m\u001b[0m\n\u001b[0;32m   5809\u001b[0m             \u001b[0msqueeze\u001b[0m\u001b[1;33m=\u001b[0m\u001b[0msqueeze\u001b[0m\u001b[1;33m,\u001b[0m\u001b[1;33m\u001b[0m\u001b[1;33m\u001b[0m\u001b[0m\n\u001b[1;32m-> 5810\u001b[1;33m             \u001b[0mobserved\u001b[0m\u001b[1;33m=\u001b[0m\u001b[0mobserved\u001b[0m\u001b[1;33m,\u001b[0m\u001b[1;33m\u001b[0m\u001b[1;33m\u001b[0m\u001b[0m\n\u001b[0m\u001b[0;32m   5811\u001b[0m         )\n\u001b[0;32m   5812\u001b[0m \u001b[1;33m\u001b[0m\u001b[0m\n",
      "\u001b[1;32m~\\Anaconda3\\envs\\ml_work_area\\lib\\site-packages\\pandas\\core\\groupby\\groupby.py\u001b[0m in \u001b[0;36m__init__\u001b[1;34m(self, obj, keys, axis, level, grouper, exclusions, selection, as_index, sort, group_keys, squeeze, observed, mutated)\u001b[0m\n\u001b[0;32m    407\u001b[0m                 \u001b[0msort\u001b[0m\u001b[1;33m=\u001b[0m\u001b[0msort\u001b[0m\u001b[1;33m,\u001b[0m\u001b[1;33m\u001b[0m\u001b[1;33m\u001b[0m\u001b[0m\n\u001b[0;32m    408\u001b[0m                 \u001b[0mobserved\u001b[0m\u001b[1;33m=\u001b[0m\u001b[0mobserved\u001b[0m\u001b[1;33m,\u001b[0m\u001b[1;33m\u001b[0m\u001b[1;33m\u001b[0m\u001b[0m\n\u001b[1;32m--> 409\u001b[1;33m                 \u001b[0mmutated\u001b[0m\u001b[1;33m=\u001b[0m\u001b[0mself\u001b[0m\u001b[1;33m.\u001b[0m\u001b[0mmutated\u001b[0m\u001b[1;33m,\u001b[0m\u001b[1;33m\u001b[0m\u001b[1;33m\u001b[0m\u001b[0m\n\u001b[0m\u001b[0;32m    410\u001b[0m             )\n\u001b[0;32m    411\u001b[0m \u001b[1;33m\u001b[0m\u001b[0m\n",
      "\u001b[1;32m~\\Anaconda3\\envs\\ml_work_area\\lib\\site-packages\\pandas\\core\\groupby\\grouper.py\u001b[0m in \u001b[0;36mget_grouper\u001b[1;34m(obj, key, axis, level, sort, observed, mutated, validate)\u001b[0m\n\u001b[0;32m    596\u001b[0m                 \u001b[0min_axis\u001b[0m\u001b[1;33m,\u001b[0m \u001b[0mname\u001b[0m\u001b[1;33m,\u001b[0m \u001b[0mlevel\u001b[0m\u001b[1;33m,\u001b[0m \u001b[0mgpr\u001b[0m \u001b[1;33m=\u001b[0m \u001b[1;32mFalse\u001b[0m\u001b[1;33m,\u001b[0m \u001b[1;32mNone\u001b[0m\u001b[1;33m,\u001b[0m \u001b[0mgpr\u001b[0m\u001b[1;33m,\u001b[0m \u001b[1;32mNone\u001b[0m\u001b[1;33m\u001b[0m\u001b[1;33m\u001b[0m\u001b[0m\n\u001b[0;32m    597\u001b[0m             \u001b[1;32melse\u001b[0m\u001b[1;33m:\u001b[0m\u001b[1;33m\u001b[0m\u001b[1;33m\u001b[0m\u001b[0m\n\u001b[1;32m--> 598\u001b[1;33m                 \u001b[1;32mraise\u001b[0m \u001b[0mKeyError\u001b[0m\u001b[1;33m(\u001b[0m\u001b[0mgpr\u001b[0m\u001b[1;33m)\u001b[0m\u001b[1;33m\u001b[0m\u001b[1;33m\u001b[0m\u001b[0m\n\u001b[0m\u001b[0;32m    599\u001b[0m         \u001b[1;32melif\u001b[0m \u001b[0misinstance\u001b[0m\u001b[1;33m(\u001b[0m\u001b[0mgpr\u001b[0m\u001b[1;33m,\u001b[0m \u001b[0mGrouper\u001b[0m\u001b[1;33m)\u001b[0m \u001b[1;32mand\u001b[0m \u001b[0mgpr\u001b[0m\u001b[1;33m.\u001b[0m\u001b[0mkey\u001b[0m \u001b[1;32mis\u001b[0m \u001b[1;32mnot\u001b[0m \u001b[1;32mNone\u001b[0m\u001b[1;33m:\u001b[0m\u001b[1;33m\u001b[0m\u001b[1;33m\u001b[0m\u001b[0m\n\u001b[0;32m    600\u001b[0m             \u001b[1;31m# Add key to exclusions\u001b[0m\u001b[1;33m\u001b[0m\u001b[1;33m\u001b[0m\u001b[1;33m\u001b[0m\u001b[0m\n",
      "\u001b[1;31mKeyError\u001b[0m: 'Region'"
     ]
    }
   ],
   "source": [
    "combined_df.loc[returns_mask, ].groupby([\"Region\"])[\"Order.ID\"].nunique()\n",
    "\n"
   ]
  },
  {
   "cell_type": "code",
   "execution_count": 58,
   "metadata": {},
   "outputs": [
    {
     "data": {
      "text/plain": "Region_y\nWestern Europe       121\nCentral America      117\nOceania               78\nWestern US            72\nEastern US            69\nSoutheastern Asia     64\nSouth America         61\nSouthern Asia         58\nSouthern Europe       55\nEastern Asia          53\nWestern Asia          50\nSouthern US           44\nNorthern Europe       43\nCentral US            42\nCaribbean             31\nWestern Africa        29\nNorth Africa          26\nEastern Europe        24\nSouthern Africa       11\nEastern Africa        11\nCentral Africa        10\nEastern Canada         5\nCentral Asia           4\nWestern Canada         1\nName: Order.ID, dtype: int64"
     },
     "execution_count": 58,
     "metadata": {},
     "output_type": "execute_result"
    }
   ],
   "source": [
    "# Western Europe followed by Central America were the top\n",
    "combined_df.groupby([\"Region_y\"])[\"Order.ID\"].nunique().sort_values(ascending=False)"
   ]
  },
  {
   "cell_type": "code",
   "execution_count": 59,
   "metadata": {},
   "outputs": [
    {
     "data": {
      "text/plain": "Category\nOffice Supplies    806\nTechnology         365\nFurniture          353\nName: Order.ID, dtype: int64"
     },
     "execution_count": 59,
     "metadata": {},
     "output_type": "execute_result"
    }
   ],
   "source": [
    "combined_df.loc[returns_mask, ].groupby([\"Category\"])[\"Order.ID\"].nunique().sort_values(ascending=False)\n",
    "\n",
    "\n"
   ]
  },
  {
   "cell_type": "code",
   "execution_count": 60,
   "metadata": {},
   "outputs": [
    {
     "data": {
      "text/plain": "Category         Sub.Category\nOffice Supplies  Binders         239\n                 Art             187\n                 Storage         186\nTechnology       Phones          133\nFurniture        Chairs          132\nOffice Supplies  Paper           132\nTechnology       Accessories     129\nOffice Supplies  Labels          127\nFurniture        Furnishings     124\n                 Bookcases        99\nOffice Supplies  Fasteners        98\n                 Supplies         96\nTechnology       Copiers          94\nOffice Supplies  Envelopes        91\nTechnology       Machines         59\nOffice Supplies  Appliances       59\nFurniture        Tables           38\nName: Order.ID, dtype: int64"
     },
     "execution_count": 60,
     "metadata": {},
     "output_type": "execute_result"
    }
   ],
   "source": [
    "combined_df.loc[returns_mask, ].groupby([\"Category\", \"Sub.Category\"])[\"Order.ID\"].nunique().sort_values(ascending=False)\n",
    "\n"
   ]
  },
  {
   "cell_type": "code",
   "execution_count": 64,
   "metadata": {},
   "outputs": [
    {
     "data": {
      "text/plain": "Index(['Row.ID', 'Order.ID', 'Order.Date', 'Ship.Date', 'Ship.Mode',\n       'Customer.ID', 'Customer.Name', 'Segment', 'Postal.Code', 'City',\n       'State', 'Country', 'Region_x', 'Market', 'Product.ID', 'Category',\n       'Sub.Category', 'Product.Name', 'Sales', 'Quantity', 'Discount',\n       'Profit', 'Shipping.Cost', 'Order.Priority', 'order_month',\n       'order_year', 'Returned', 'Order ID', 'Region_y'],\n      dtype='object')"
     },
     "execution_count": 64,
     "metadata": {},
     "output_type": "execute_result"
    }
   ],
   "source": [
    "combined_df.columns"
   ]
  },
  {
   "cell_type": "code",
   "execution_count": 65,
   "metadata": {},
   "outputs": [],
   "source": [
    "# Part II\n",
    "# Problem 4\n",
    "combined_df[\"return_target\"] = combined_df[\"Returned\"].map({\"Yes\": 1, \"No\": 0 })\n"
   ]
  },
  {
   "cell_type": "code",
   "execution_count": 66,
   "metadata": {},
   "outputs": [
    {
     "data": {
      "text/plain": "count    51290.000000\nmean         0.043283\nstd          0.203496\nmin          0.000000\n25%          0.000000\n50%          0.000000\n75%          0.000000\nmax          1.000000\nName: return_target, dtype: float64"
     },
     "execution_count": 66,
     "metadata": {},
     "output_type": "execute_result"
    }
   ],
   "source": [
    "combined_df[\"return_target\"].describe()"
   ]
  },
  {
   "cell_type": "code",
   "execution_count": 68,
   "metadata": {},
   "outputs": [
    {
     "data": {
      "text/plain": "count                     51290\nmean     3 days 23:15:53.589393\nstd      1 days 17:30:23.320880\nmin             0 days 00:00:00\n25%             3 days 00:00:00\n50%             4 days 00:00:00\n75%             5 days 00:00:00\nmax             7 days 00:00:00\nName: Process.Time, dtype: object"
     },
     "execution_count": 68,
     "metadata": {},
     "output_type": "execute_result"
    }
   ],
   "source": [
    "# Problem 4 Step 2\n",
    "combined_df[\"Process.Time\"] = combined_df[\"Ship.Date\"] - combined_df[\"Order.Date\"]\n",
    "combined_df[\"Process.Time\"].describe()\n"
   ]
  },
  {
   "cell_type": "code",
   "execution_count": 69,
   "metadata": {},
   "outputs": [
    {
     "data": {
      "text/plain": "Row.ID                      int64\nOrder.ID                   object\nOrder.Date         datetime64[ns]\nShip.Date          datetime64[ns]\nShip.Mode                  object\nCustomer.ID                object\nCustomer.Name              object\nSegment                    object\nPostal.Code               float64\nCity                       object\nState                      object\nCountry                    object\nRegion_x                   object\nMarket                     object\nProduct.ID                 object\nCategory                   object\nSub.Category               object\nProduct.Name               object\nSales                     float64\nQuantity                    int64\nDiscount                  float64\nProfit                    float64\nShipping.Cost             float64\nOrder.Priority             object\norder_month                 int64\norder_year                  int64\nReturned                   object\nOrder ID                   object\nRegion_y                   object\nreturn_target               int64\nProcess.Time      timedelta64[ns]\ndtype: object"
     },
     "execution_count": 69,
     "metadata": {},
     "output_type": "execute_result"
    }
   ],
   "source": [
    "combined_df.dtypes"
   ]
  },
  {
   "cell_type": "code",
   "execution_count": 77,
   "metadata": {},
   "outputs": [],
   "source": [
    "returned_prodcuts = combined_df.loc[returns_mask, ].groupby(\"Product.ID\")[\"Order.ID\"].nunique().sort_values(ascending=False).reset_index()\n"
   ]
  },
  {
   "cell_type": "code",
   "execution_count": 83,
   "metadata": {},
   "outputs": [],
   "source": [
    "returned_prodcuts.columns = [\"Product.ID\", \"Return_Count\"]"
   ]
  },
  {
   "cell_type": "code",
   "execution_count": 84,
   "metadata": {},
   "outputs": [
    {
     "data": {
      "text/html": "<div>\n<style scoped>\n    .dataframe tbody tr th:only-of-type {\n        vertical-align: middle;\n    }\n\n    .dataframe tbody tr th {\n        vertical-align: top;\n    }\n\n    .dataframe thead th {\n        text-align: right;\n    }\n</style>\n<table border=\"1\" class=\"dataframe\">\n  <thead>\n    <tr style=\"text-align: right;\">\n      <th></th>\n      <th>Product.ID</th>\n      <th>Return_Count</th>\n    </tr>\n  </thead>\n  <tbody>\n    <tr>\n      <th>0</th>\n      <td>OFF-FA-6129</td>\n      <td>12</td>\n    </tr>\n    <tr>\n      <th>1</th>\n      <td>OFF-ST-6033</td>\n      <td>9</td>\n    </tr>\n    <tr>\n      <th>2</th>\n      <td>OFF-ST-6251</td>\n      <td>6</td>\n    </tr>\n    <tr>\n      <th>3</th>\n      <td>OFF-ST-6031</td>\n      <td>6</td>\n    </tr>\n    <tr>\n      <th>4</th>\n      <td>OFF-AR-3499</td>\n      <td>6</td>\n    </tr>\n    <tr>\n      <th>...</th>\n      <td>...</td>\n      <td>...</td>\n    </tr>\n    <tr>\n      <th>1489</th>\n      <td>OFF-PA-6423</td>\n      <td>1</td>\n    </tr>\n    <tr>\n      <th>1490</th>\n      <td>OFF-PA-6429</td>\n      <td>1</td>\n    </tr>\n    <tr>\n      <th>1491</th>\n      <td>OFF-PA-6436</td>\n      <td>1</td>\n    </tr>\n    <tr>\n      <th>1492</th>\n      <td>OFF-PA-6437</td>\n      <td>1</td>\n    </tr>\n    <tr>\n      <th>1493</th>\n      <td>FUR-BO-3176</td>\n      <td>1</td>\n    </tr>\n  </tbody>\n</table>\n<p>1494 rows × 2 columns</p>\n</div>",
      "text/plain": "       Product.ID  Return_Count\n0     OFF-FA-6129            12\n1     OFF-ST-6033             9\n2     OFF-ST-6251             6\n3     OFF-ST-6031             6\n4     OFF-AR-3499             6\n...           ...           ...\n1489  OFF-PA-6423             1\n1490  OFF-PA-6429             1\n1491  OFF-PA-6436             1\n1492  OFF-PA-6437             1\n1493  FUR-BO-3176             1\n\n[1494 rows x 2 columns]"
     },
     "execution_count": 84,
     "metadata": {},
     "output_type": "execute_result"
    }
   ],
   "source": [
    "returned_prodcuts"
   ]
  },
  {
   "cell_type": "code",
   "execution_count": 86,
   "metadata": {},
   "outputs": [],
   "source": [
    "combined_df = combined_df.merge(right=returned_prodcuts, on=[\"Product.ID\"], how=\"left\")"
   ]
  },
  {
   "cell_type": "code",
   "execution_count": 89,
   "metadata": {},
   "outputs": [],
   "source": [
    "# combined_df[\"returned_prior\"]\n",
    "combined_df['Return_Count'] = combined_df[\"Return_Count\"].fillna(0)"
   ]
  },
  {
   "cell_type": "code",
   "execution_count": 90,
   "metadata": {},
   "outputs": [],
   "source": [
    "from sklearn.linear_model import LogisticRegression"
   ]
  },
  {
   "cell_type": "code",
   "execution_count": 91,
   "metadata": {},
   "outputs": [],
   "source": [
    "from sklearn.model_selection import train_test_split"
   ]
  },
  {
   "cell_type": "code",
   "execution_count": 93,
   "metadata": {},
   "outputs": [],
   "source": [
    "target = combined_df[\"return_target\"]"
   ]
  },
  {
   "cell_type": "code",
   "execution_count": 94,
   "metadata": {},
   "outputs": [
    {
     "data": {
      "text/plain": "Index(['Row.ID', 'Order.ID', 'Order.Date', 'Ship.Date', 'Ship.Mode',\n       'Customer.ID', 'Customer.Name', 'Segment', 'Postal.Code', 'City',\n       'State', 'Country', 'Region_x', 'Market', 'Product.ID', 'Category',\n       'Sub.Category', 'Product.Name', 'Sales', 'Quantity', 'Discount',\n       'Profit', 'Shipping.Cost', 'Order.Priority', 'order_month',\n       'order_year', 'Returned', 'Order ID', 'Region_y', 'return_target',\n       'Process.Time', 'Return_Count'],\n      dtype='object')"
     },
     "execution_count": 94,
     "metadata": {},
     "output_type": "execute_result"
    }
   ],
   "source": [
    "combined_df.columns"
   ]
  },
  {
   "cell_type": "code",
   "execution_count": 100,
   "metadata": {},
   "outputs": [],
   "source": [
    "features_df = combined_df[[\"Process.Time\", \"order_month\", \"Return_Count\"]]"
   ]
  },
  {
   "cell_type": "code",
   "execution_count": 106,
   "metadata": {},
   "outputs": [],
   "source": [
    "features_df[\"Process.Time\"] = features_df[\"Process.Time\"].dt.days"
   ]
  },
  {
   "cell_type": "code",
   "execution_count": 107,
   "metadata": {},
   "outputs": [],
   "source": [
    "X_train, X_test, y_train, y_test = train_test_split(features_df, target, test_size=0.20, random_state = 42)"
   ]
  },
  {
   "cell_type": "code",
   "execution_count": 108,
   "metadata": {},
   "outputs": [],
   "source": [
    "logit_reg = LogisticRegression()"
   ]
  },
  {
   "cell_type": "code",
   "execution_count": 109,
   "metadata": {},
   "outputs": [
    {
     "name": "stdout",
     "output_type": "stream",
     "text": "Train R2 is 0.9560830571261455\nTest R2 is 0.9592513160460129\n"
    }
   ],
   "source": [
    "logit_reg.fit(X=X_train, y=y_train)\n",
    "print(f\"Train R2 is {logit_reg.score(X=X_train, y=y_train)}\")\n",
    "print(f\"Test R2 is {logit_reg.score(X=X_test, y=y_test)}\")"
   ]
  },
  {
   "cell_type": "code",
   "execution_count": 110,
   "metadata": {},
   "outputs": [],
   "source": [
    "from yellowbrick.classifier import ConfusionMatrix"
   ]
  },
  {
   "cell_type": "code",
   "execution_count": 112,
   "metadata": {},
   "outputs": [
    {
     "data": {
      "text/plain": "<bound method ConfusionMatrix.show of ConfusionMatrix(ax=<matplotlib.axes._subplots.AxesSubplot object at 0x000001C365154E08>,\n                classes=['not returned', 'returned'],\n                cmap=<matplotlib.colors.ListedColormap object at 0x000001C36519FD08>,\n                encoder=None, fontsize=None, force_model=False, is_fitted=True,\n                model=None, percent=False, sample_weight=None)>"
     },
     "execution_count": 112,
     "metadata": {},
     "output_type": "execute_result"
    },
    {
     "data": {
      "image/png": "[encoded data removed]",
      "image/svg+xml": "<?xml version=\"1.0\" encoding=\"utf-8\" standalone=\"no\"?>\r\n<!DOCTYPE svg PUBLIC \"-//W3C//DTD SVG 1.1//EN\"\r\n  \"http://www.w3.org/Graphics/SVG/1.1/DTD/svg11.dtd\">\r\n<!-- Created with matplotlib (https://matplotlib.org/) -->\r\n<svg height=\"385.084375pt\" version=\"1.1\" viewBox=\"0 0 532.504375 385.084375\" width=\"532.504375pt\" xmlns=\"http://www.w3.org/2000/svg\" xmlns:xlink=\"http://www.w3.org/1999/xlink\">\r\n <defs>\r\n  <style type=\"text/css\">\r\n*{stroke-linecap:butt;stroke-linejoin:round;}\r\n  </style>\r\n </defs>\r\n <g id=\"figure_1\">\r\n  <g id=\"patch_1\">\r\n   <path d=\"M 0 385.084375 \r\nL 532.504375 385.084375 \r\nL 532.504375 0 \r\nL 0 0 \r\nz\r\n\" style=\"fill:#ffffff;\"/>\r\n  </g>\r\n  <g id=\"axes_1\">\r\n   <g id=\"patch_2\">\r\n    <path d=\"M 78.904375 306.18 \r\nL 525.304375 306.18 \r\nL 525.304375 7.2 \r\nL 78.904375 7.2 \r\nz\r\n\" style=\"fill:#ffffff;\"/>\r\n   </g>\r\n   <g id=\"matplotlib.axis_1\">\r\n    <g id=\"xtick_1\">\r\n     <g id=\"line2d_1\"/>\r\n     <g id=\"text_1\">\r\n      <!-- not returned -->\r\n      <defs>\r\n       <path d=\"M 6.59375 0 \r\nL 6.59375 51.859375 \r\nL 14.5 51.859375 \r\nL 14.5 44.484375 \r\nQ 20.21875 53.03125 31 53.03125 \r\nQ 35.6875 53.03125 39.625 51.34375 \r\nQ 43.5625 49.65625 45.515625 46.921875 \r\nQ 47.46875 44.1875 48.25 40.4375 \r\nQ 48.734375 37.984375 48.734375 31.890625 \r\nL 48.734375 0 \r\nL 39.9375 0 \r\nL 39.9375 31.546875 \r\nQ 39.9375 36.921875 38.90625 39.578125 \r\nQ 37.890625 42.234375 35.28125 43.8125 \r\nQ 32.671875 45.40625 29.15625 45.40625 \r\nQ 23.53125 45.40625 19.453125 41.84375 \r\nQ 15.375 38.28125 15.375 28.328125 \r\nL 15.375 0 \r\nz\r\n\" id=\"ArialMT-110\"/>\r\n       <path d=\"M 3.328125 25.921875 \r\nQ 3.328125 40.328125 11.328125 47.265625 \r\nQ 18.015625 53.03125 27.640625 53.03125 \r\nQ 38.328125 53.03125 45.109375 46.015625 \r\nQ 51.90625 39.015625 51.90625 26.65625 \r\nQ 51.90625 16.65625 48.90625 10.90625 \r\nQ 45.90625 5.171875 40.15625 2 \r\nQ 34.421875 -1.171875 27.640625 -1.171875 \r\nQ 16.75 -1.171875 10.03125 5.8125 \r\nQ 3.328125 12.796875 3.328125 25.921875 \r\nz\r\nM 12.359375 25.921875 \r\nQ 12.359375 15.96875 16.703125 11.015625 \r\nQ 21.046875 6.0625 27.640625 6.0625 \r\nQ 34.1875 6.0625 38.53125 11.03125 \r\nQ 42.875 16.015625 42.875 26.21875 \r\nQ 42.875 35.84375 38.5 40.796875 \r\nQ 34.125 45.75 27.640625 45.75 \r\nQ 21.046875 45.75 16.703125 40.8125 \r\nQ 12.359375 35.890625 12.359375 25.921875 \r\nz\r\n\" id=\"ArialMT-111\"/>\r\n       <path d=\"M 25.78125 7.859375 \r\nL 27.046875 0.09375 \r\nQ 23.34375 -0.6875 20.40625 -0.6875 \r\nQ 15.625 -0.6875 12.984375 0.828125 \r\nQ 10.359375 2.34375 9.28125 4.8125 \r\nQ 8.203125 7.28125 8.203125 15.1875 \r\nL 8.203125 45.015625 \r\nL 1.765625 45.015625 \r\nL 1.765625 51.859375 \r\nL 8.203125 51.859375 \r\nL 8.203125 64.703125 \r\nL 16.9375 69.96875 \r\nL 16.9375 51.859375 \r\nL 25.78125 51.859375 \r\nL 25.78125 45.015625 \r\nL 16.9375 45.015625 \r\nL 16.9375 14.703125 \r\nQ 16.9375 10.9375 17.40625 9.859375 \r\nQ 17.875 8.796875 18.921875 8.15625 \r\nQ 19.96875 7.515625 21.921875 7.515625 \r\nQ 23.390625 7.515625 25.78125 7.859375 \r\nz\r\n\" id=\"ArialMT-116\"/>\r\n       <path id=\"ArialMT-32\"/>\r\n       <path d=\"M 6.5 0 \r\nL 6.5 51.859375 \r\nL 14.40625 51.859375 \r\nL 14.40625 44 \r\nQ 17.4375 49.515625 20 51.265625 \r\nQ 22.5625 53.03125 25.640625 53.03125 \r\nQ 30.078125 53.03125 34.671875 50.203125 \r\nL 31.640625 42.046875 \r\nQ 28.421875 43.953125 25.203125 43.953125 \r\nQ 22.3125 43.953125 20.015625 42.21875 \r\nQ 17.71875 40.484375 16.75 37.40625 \r\nQ 15.28125 32.71875 15.28125 27.15625 \r\nL 15.28125 0 \r\nz\r\n\" id=\"ArialMT-114\"/>\r\n       <path d=\"M 42.09375 16.703125 \r\nL 51.171875 15.578125 \r\nQ 49.03125 7.625 43.21875 3.21875 \r\nQ 37.40625 -1.171875 28.375 -1.171875 \r\nQ 17 -1.171875 10.328125 5.828125 \r\nQ 3.65625 12.84375 3.65625 25.484375 \r\nQ 3.65625 38.578125 10.390625 45.796875 \r\nQ 17.140625 53.03125 27.875 53.03125 \r\nQ 38.28125 53.03125 44.875 45.953125 \r\nQ 51.46875 38.875 51.46875 26.03125 \r\nQ 51.46875 25.25 51.421875 23.6875 \r\nL 12.75 23.6875 \r\nQ 13.234375 15.140625 17.578125 10.59375 \r\nQ 21.921875 6.0625 28.421875 6.0625 \r\nQ 33.25 6.0625 36.671875 8.59375 \r\nQ 40.09375 11.140625 42.09375 16.703125 \r\nz\r\nM 13.234375 30.90625 \r\nL 42.1875 30.90625 \r\nQ 41.609375 37.453125 38.875 40.71875 \r\nQ 34.671875 45.796875 27.984375 45.796875 \r\nQ 21.921875 45.796875 17.796875 41.75 \r\nQ 13.671875 37.703125 13.234375 30.90625 \r\nz\r\n\" id=\"ArialMT-101\"/>\r\n       <path d=\"M 40.578125 0 \r\nL 40.578125 7.625 \r\nQ 34.515625 -1.171875 24.125 -1.171875 \r\nQ 19.53125 -1.171875 15.546875 0.578125 \r\nQ 11.578125 2.34375 9.640625 5 \r\nQ 7.71875 7.671875 6.9375 11.53125 \r\nQ 6.390625 14.109375 6.390625 19.734375 \r\nL 6.390625 51.859375 \r\nL 15.1875 51.859375 \r\nL 15.1875 23.09375 \r\nQ 15.1875 16.21875 15.71875 13.8125 \r\nQ 16.546875 10.359375 19.234375 8.375 \r\nQ 21.921875 6.390625 25.875 6.390625 \r\nQ 29.828125 6.390625 33.296875 8.421875 \r\nQ 36.765625 10.453125 38.203125 13.9375 \r\nQ 39.65625 17.4375 39.65625 24.078125 \r\nL 39.65625 51.859375 \r\nL 48.4375 51.859375 \r\nL 48.4375 0 \r\nz\r\n\" id=\"ArialMT-117\"/>\r\n       <path d=\"M 40.234375 0 \r\nL 40.234375 6.546875 \r\nQ 35.296875 -1.171875 25.734375 -1.171875 \r\nQ 19.53125 -1.171875 14.328125 2.25 \r\nQ 9.125 5.671875 6.265625 11.796875 \r\nQ 3.421875 17.921875 3.421875 25.875 \r\nQ 3.421875 33.640625 6 39.96875 \r\nQ 8.59375 46.296875 13.765625 49.65625 \r\nQ 18.953125 53.03125 25.34375 53.03125 \r\nQ 30.03125 53.03125 33.6875 51.046875 \r\nQ 37.359375 49.078125 39.65625 45.90625 \r\nL 39.65625 71.578125 \r\nL 48.390625 71.578125 \r\nL 48.390625 0 \r\nz\r\nM 12.453125 25.875 \r\nQ 12.453125 15.921875 16.640625 10.984375 \r\nQ 20.84375 6.0625 26.5625 6.0625 \r\nQ 32.328125 6.0625 36.34375 10.765625 \r\nQ 40.375 15.484375 40.375 25.140625 \r\nQ 40.375 35.796875 36.265625 40.765625 \r\nQ 32.171875 45.75 26.171875 45.75 \r\nQ 20.3125 45.75 16.375 40.96875 \r\nQ 12.453125 36.1875 12.453125 25.875 \r\nz\r\n\" id=\"ArialMT-100\"/>\r\n      </defs>\r\n      <g style=\"fill:#262626;\" transform=\"translate(193.606562 377.884375)rotate(-90)scale(0.12 -0.12)\">\r\n       <use xlink:href=\"#ArialMT-110\"/>\r\n       <use x=\"55.615234\" xlink:href=\"#ArialMT-111\"/>\r\n       <use x=\"111.230469\" xlink:href=\"#ArialMT-116\"/>\r\n       <use x=\"139.013672\" xlink:href=\"#ArialMT-32\"/>\r\n       <use x=\"166.796875\" xlink:href=\"#ArialMT-114\"/>\r\n       <use x=\"200.097656\" xlink:href=\"#ArialMT-101\"/>\r\n       <use x=\"255.712891\" xlink:href=\"#ArialMT-116\"/>\r\n       <use x=\"283.496094\" xlink:href=\"#ArialMT-117\"/>\r\n       <use x=\"339.111328\" xlink:href=\"#ArialMT-114\"/>\r\n       <use x=\"372.412109\" xlink:href=\"#ArialMT-110\"/>\r\n       <use x=\"428.027344\" xlink:href=\"#ArialMT-101\"/>\r\n       <use x=\"483.642578\" xlink:href=\"#ArialMT-100\"/>\r\n      </g>\r\n     </g>\r\n    </g>\r\n    <g id=\"xtick_2\">\r\n     <g id=\"line2d_2\"/>\r\n     <g id=\"text_2\">\r\n      <!-- returned -->\r\n      <g style=\"fill:#262626;\" transform=\"translate(416.806562 357.870625)rotate(-90)scale(0.12 -0.12)\">\r\n       <use xlink:href=\"#ArialMT-114\"/>\r\n       <use x=\"33.300781\" xlink:href=\"#ArialMT-101\"/>\r\n       <use x=\"88.916016\" xlink:href=\"#ArialMT-116\"/>\r\n       <use x=\"116.699219\" xlink:href=\"#ArialMT-117\"/>\r\n       <use x=\"172.314453\" xlink:href=\"#ArialMT-114\"/>\r\n       <use x=\"205.615234\" xlink:href=\"#ArialMT-110\"/>\r\n       <use x=\"261.230469\" xlink:href=\"#ArialMT-101\"/>\r\n       <use x=\"316.845703\" xlink:href=\"#ArialMT-100\"/>\r\n      </g>\r\n     </g>\r\n    </g>\r\n   </g>\r\n   <g id=\"matplotlib.axis_2\">\r\n    <g id=\"ytick_1\">\r\n     <g id=\"line2d_3\"/>\r\n     <g id=\"text_3\">\r\n      <!-- returned -->\r\n      <g style=\"fill:#262626;\" transform=\"translate(27.21375 235.729688)scale(0.12 -0.12)\">\r\n       <use xlink:href=\"#ArialMT-114\"/>\r\n       <use x=\"33.300781\" xlink:href=\"#ArialMT-101\"/>\r\n       <use x=\"88.916016\" xlink:href=\"#ArialMT-116\"/>\r\n       <use x=\"116.699219\" xlink:href=\"#ArialMT-117\"/>\r\n       <use x=\"172.314453\" xlink:href=\"#ArialMT-114\"/>\r\n       <use x=\"205.615234\" xlink:href=\"#ArialMT-110\"/>\r\n       <use x=\"261.230469\" xlink:href=\"#ArialMT-101\"/>\r\n       <use x=\"316.845703\" xlink:href=\"#ArialMT-100\"/>\r\n      </g>\r\n     </g>\r\n    </g>\r\n    <g id=\"ytick_2\">\r\n     <g id=\"line2d_4\"/>\r\n     <g id=\"text_4\">\r\n      <!-- not returned -->\r\n      <g style=\"fill:#262626;\" transform=\"translate(7.2 86.239688)scale(0.12 -0.12)\">\r\n       <use xlink:href=\"#ArialMT-110\"/>\r\n       <use x=\"55.615234\" xlink:href=\"#ArialMT-111\"/>\r\n       <use x=\"111.230469\" xlink:href=\"#ArialMT-116\"/>\r\n       <use x=\"139.013672\" xlink:href=\"#ArialMT-32\"/>\r\n       <use x=\"166.796875\" xlink:href=\"#ArialMT-114\"/>\r\n       <use x=\"200.097656\" xlink:href=\"#ArialMT-101\"/>\r\n       <use x=\"255.712891\" xlink:href=\"#ArialMT-116\"/>\r\n       <use x=\"283.496094\" xlink:href=\"#ArialMT-117\"/>\r\n       <use x=\"339.111328\" xlink:href=\"#ArialMT-114\"/>\r\n       <use x=\"372.412109\" xlink:href=\"#ArialMT-110\"/>\r\n       <use x=\"428.027344\" xlink:href=\"#ArialMT-101\"/>\r\n       <use x=\"483.642578\" xlink:href=\"#ArialMT-100\"/>\r\n      </g>\r\n     </g>\r\n    </g>\r\n   </g>\r\n   <g id=\"QuadMesh_1\">\r\n    <path clip-path=\"url(#p8814d07ccb)\" d=\"M 78.904375 306.18 \r\nL 302.104375 306.18 \r\nL 302.104375 156.69 \r\nL 78.904375 156.69 \r\nL 78.904375 306.18 \r\n\" style=\"fill:#ffffcc;stroke:#ffffff;stroke-width:0.01;\"/>\r\n    <path clip-path=\"url(#p8814d07ccb)\" d=\"M 302.104375 306.18 \r\nL 525.304375 306.18 \r\nL 525.304375 156.69 \r\nL 302.104375 156.69 \r\nL 302.104375 306.18 \r\n\" style=\"fill:#ffffff;stroke:#111111;stroke-width:0.01;\"/>\r\n    <path clip-path=\"url(#p8814d07ccb)\" d=\"M 78.904375 156.69 \r\nL 302.104375 156.69 \r\nL 302.104375 7.2 \r\nL 78.904375 7.2 \r\nL 78.904375 156.69 \r\n\" style=\"fill:#800026;stroke:#111111;stroke-width:0.01;\"/>\r\n    <path clip-path=\"url(#p8814d07ccb)\" d=\"M 302.104375 156.69 \r\nL 525.304375 156.69 \r\nL 525.304375 7.2 \r\nL 302.104375 7.2 \r\nL 302.104375 156.69 \r\n\" style=\"fill:#ffffff;stroke:#ffffff;stroke-width:0.01;\"/>\r\n   </g>\r\n   <g id=\"patch_3\">\r\n    <path d=\"M 78.904375 306.18 \r\nL 78.904375 7.2 \r\n\" style=\"fill:none;stroke:#cccccc;stroke-linecap:square;stroke-linejoin:miter;stroke-width:1.25;\"/>\r\n   </g>\r\n   <g id=\"patch_4\">\r\n    <path d=\"M 525.304375 306.18 \r\nL 525.304375 7.2 \r\n\" style=\"fill:none;stroke:#cccccc;stroke-linecap:square;stroke-linejoin:miter;stroke-width:1.25;\"/>\r\n   </g>\r\n   <g id=\"patch_5\">\r\n    <path d=\"M 78.904375 306.18 \r\nL 525.304375 306.18 \r\n\" style=\"fill:none;stroke:#cccccc;stroke-linecap:square;stroke-linejoin:miter;stroke-width:1.25;\"/>\r\n   </g>\r\n   <g id=\"patch_6\">\r\n    <path d=\"M 78.904375 7.2 \r\nL 525.304375 7.2 \r\n\" style=\"fill:none;stroke:#cccccc;stroke-linecap:square;stroke-linejoin:miter;stroke-width:1.25;\"/>\r\n   </g>\r\n   <g id=\"text_5\">\r\n    <!-- 418 -->\r\n    <defs>\r\n     <path d=\"M 32.328125 0 \r\nL 32.328125 17.140625 \r\nL 1.265625 17.140625 \r\nL 1.265625 25.203125 \r\nL 33.9375 71.578125 \r\nL 41.109375 71.578125 \r\nL 41.109375 25.203125 \r\nL 50.78125 25.203125 \r\nL 50.78125 17.140625 \r\nL 41.109375 17.140625 \r\nL 41.109375 0 \r\nz\r\nM 32.328125 25.203125 \r\nL 32.328125 57.46875 \r\nL 9.90625 25.203125 \r\nz\r\n\" id=\"ArialMT-52\"/>\r\n     <path d=\"M 37.25 0 \r\nL 28.46875 0 \r\nL 28.46875 56 \r\nQ 25.296875 52.984375 20.140625 49.953125 \r\nQ 14.984375 46.921875 10.890625 45.40625 \r\nL 10.890625 53.90625 \r\nQ 18.265625 57.375 23.78125 62.296875 \r\nQ 29.296875 67.234375 31.59375 71.875 \r\nL 37.25 71.875 \r\nz\r\n\" id=\"ArialMT-49\"/>\r\n     <path d=\"M 17.671875 38.8125 \r\nQ 12.203125 40.828125 9.5625 44.53125 \r\nQ 6.9375 48.25 6.9375 53.421875 \r\nQ 6.9375 61.234375 12.546875 66.546875 \r\nQ 18.171875 71.875 27.484375 71.875 \r\nQ 36.859375 71.875 42.578125 66.421875 \r\nQ 48.296875 60.984375 48.296875 53.171875 \r\nQ 48.296875 48.1875 45.671875 44.5 \r\nQ 43.0625 40.828125 37.75 38.8125 \r\nQ 44.34375 36.671875 47.78125 31.875 \r\nQ 51.21875 27.09375 51.21875 20.453125 \r\nQ 51.21875 11.28125 44.71875 5.03125 \r\nQ 38.234375 -1.21875 27.640625 -1.21875 \r\nQ 17.046875 -1.21875 10.546875 5.046875 \r\nQ 4.046875 11.328125 4.046875 20.703125 \r\nQ 4.046875 27.6875 7.59375 32.390625 \r\nQ 11.140625 37.109375 17.671875 38.8125 \r\nz\r\nM 15.921875 53.71875 \r\nQ 15.921875 48.640625 19.1875 45.40625 \r\nQ 22.46875 42.1875 27.6875 42.1875 \r\nQ 32.765625 42.1875 36.015625 45.375 \r\nQ 39.265625 48.578125 39.265625 53.21875 \r\nQ 39.265625 58.0625 35.90625 61.359375 \r\nQ 32.5625 64.65625 27.59375 64.65625 \r\nQ 22.5625 64.65625 19.234375 61.421875 \r\nQ 15.921875 58.203125 15.921875 53.71875 \r\nz\r\nM 13.09375 20.65625 \r\nQ 13.09375 16.890625 14.875 13.375 \r\nQ 16.65625 9.859375 20.171875 7.921875 \r\nQ 23.6875 6 27.734375 6 \r\nQ 34.03125 6 38.125 10.046875 \r\nQ 42.234375 14.109375 42.234375 20.359375 \r\nQ 42.234375 26.703125 38.015625 30.859375 \r\nQ 33.796875 35.015625 27.4375 35.015625 \r\nQ 21.234375 35.015625 17.15625 30.90625 \r\nQ 13.09375 26.8125 13.09375 20.65625 \r\nz\r\n\" id=\"ArialMT-56\"/>\r\n    </defs>\r\n    <g transform=\"translate(180.494687 234.537188)scale(0.12 -0.12)\">\r\n     <use xlink:href=\"#ArialMT-52\"/>\r\n     <use x=\"55.615234\" xlink:href=\"#ArialMT-49\"/>\r\n     <use x=\"111.230469\" xlink:href=\"#ArialMT-56\"/>\r\n    </g>\r\n   </g>\r\n   <g id=\"text_6\">\r\n    <!-- 0 -->\r\n    <defs>\r\n     <path d=\"M 4.15625 35.296875 \r\nQ 4.15625 48 6.765625 55.734375 \r\nQ 9.375 63.484375 14.515625 67.671875 \r\nQ 19.671875 71.875 27.484375 71.875 \r\nQ 33.25 71.875 37.59375 69.546875 \r\nQ 41.9375 67.234375 44.765625 62.859375 \r\nQ 47.609375 58.5 49.21875 52.21875 \r\nQ 50.828125 45.953125 50.828125 35.296875 \r\nQ 50.828125 22.703125 48.234375 14.96875 \r\nQ 45.65625 7.234375 40.5 3 \r\nQ 35.359375 -1.21875 27.484375 -1.21875 \r\nQ 17.140625 -1.21875 11.234375 6.203125 \r\nQ 4.15625 15.140625 4.15625 35.296875 \r\nz\r\nM 13.1875 35.296875 \r\nQ 13.1875 17.671875 17.3125 11.828125 \r\nQ 21.4375 6 27.484375 6 \r\nQ 33.546875 6 37.671875 11.859375 \r\nQ 41.796875 17.71875 41.796875 35.296875 \r\nQ 41.796875 52.984375 37.671875 58.78125 \r\nQ 33.546875 64.59375 27.390625 64.59375 \r\nQ 21.34375 64.59375 17.71875 59.46875 \r\nQ 13.1875 52.9375 13.1875 35.296875 \r\nz\r\n\" id=\"ArialMT-48\"/>\r\n    </defs>\r\n    <g style=\"fill:#bfbfbf;\" transform=\"translate(410.367812 234.537188)scale(0.12 -0.12)\">\r\n     <use xlink:href=\"#ArialMT-48\"/>\r\n    </g>\r\n   </g>\r\n   <g id=\"text_7\">\r\n    <!-- 9840 -->\r\n    <defs>\r\n     <path d=\"M 5.46875 16.546875 \r\nL 13.921875 17.328125 \r\nQ 14.984375 11.375 18.015625 8.6875 \r\nQ 21.046875 6 25.78125 6 \r\nQ 29.828125 6 32.875 7.859375 \r\nQ 35.9375 9.71875 37.890625 12.8125 \r\nQ 39.84375 15.921875 41.15625 21.1875 \r\nQ 42.484375 26.46875 42.484375 31.9375 \r\nQ 42.484375 32.515625 42.4375 33.6875 \r\nQ 39.796875 29.5 35.234375 26.875 \r\nQ 30.671875 24.265625 25.34375 24.265625 \r\nQ 16.453125 24.265625 10.296875 30.703125 \r\nQ 4.15625 37.15625 4.15625 47.703125 \r\nQ 4.15625 58.59375 10.578125 65.234375 \r\nQ 17 71.875 26.65625 71.875 \r\nQ 33.640625 71.875 39.421875 68.109375 \r\nQ 45.21875 64.359375 48.21875 57.390625 \r\nQ 51.21875 50.4375 51.21875 37.25 \r\nQ 51.21875 23.53125 48.234375 15.40625 \r\nQ 45.265625 7.28125 39.375 3.03125 \r\nQ 33.5 -1.21875 25.59375 -1.21875 \r\nQ 17.1875 -1.21875 11.859375 3.4375 \r\nQ 6.546875 8.109375 5.46875 16.546875 \r\nz\r\nM 41.453125 48.140625 \r\nQ 41.453125 55.71875 37.421875 60.15625 \r\nQ 33.40625 64.59375 27.734375 64.59375 \r\nQ 21.875 64.59375 17.53125 59.8125 \r\nQ 13.1875 55.03125 13.1875 47.40625 \r\nQ 13.1875 40.578125 17.3125 36.296875 \r\nQ 21.4375 32.03125 27.484375 32.03125 \r\nQ 33.59375 32.03125 37.515625 36.296875 \r\nQ 41.453125 40.578125 41.453125 48.140625 \r\nz\r\n\" id=\"ArialMT-57\"/>\r\n    </defs>\r\n    <g style=\"fill:#ffffff;\" transform=\"translate(177.158125 85.047188)scale(0.12 -0.12)\">\r\n     <use xlink:href=\"#ArialMT-57\"/>\r\n     <use x=\"55.615234\" xlink:href=\"#ArialMT-56\"/>\r\n     <use x=\"111.230469\" xlink:href=\"#ArialMT-52\"/>\r\n     <use x=\"166.845703\" xlink:href=\"#ArialMT-48\"/>\r\n    </g>\r\n   </g>\r\n   <g id=\"text_8\">\r\n    <!-- 0 -->\r\n    <g style=\"fill:#bfbfbf;\" transform=\"translate(410.367812 85.047188)scale(0.12 -0.12)\">\r\n     <use xlink:href=\"#ArialMT-48\"/>\r\n    </g>\r\n   </g>\r\n  </g>\r\n </g>\r\n <defs>\r\n  <clipPath id=\"p8814d07ccb\">\r\n   <rect height=\"298.98\" width=\"446.4\" x=\"78.904375\" y=\"7.2\"/>\r\n  </clipPath>\r\n </defs>\r\n</svg>\r\n",
      "text/plain": "<Figure size 576x396 with 1 Axes>"
     },
     "metadata": {},
     "output_type": "display_data"
    }
   ],
   "source": [
    "cm = ConfusionMatrix(model=logit_reg, classes=[\"not returned\", \"returned\"], is_fitted=True)\n",
    "cm.fit(X_train, y_train)\n",
    "cm.score(X_test, y_test)\n",
    "cm.show"
   ]
  },
  {
   "cell_type": "code",
   "execution_count": null,
   "metadata": {},
   "outputs": [],
   "source": []
  }
 ],
 "metadata": {
  "kernelspec": {
   "name": "pycharm-632574fa",
   "language": "python",
   "display_name": "PyCharm (ml_work_area)"
  },
  "language_info": {
   "codemirror_mode": {
    "name": "ipython",
    "version": 2
   },
   "file_extension": ".py",
   "mimetype": "text/x-python",
   "name": "python",
   "nbconvert_exporter": "python",
   "pygments_lexer": "ipython2",
   "version": "3.7.6-final"
  },
  "pycharm": {
   "stem_cell": {
    "cell_type": "raw",
    "source": [],
    "metadata": {
     "collapsed": false
    }
   }
  }
 },
 "nbformat": 4,
 "nbformat_minor": 0
}